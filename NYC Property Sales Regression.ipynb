{
 "cells": [
  {
   "cell_type": "code",
   "execution_count": 1,
   "metadata": {},
   "outputs": [],
   "source": [
    "import pandas as pd\n",
    "import numpy as np\n",
    "import matplotlib.pyplot as plt\n",
    "import seaborn as sns"
   ]
  },
  {
   "cell_type": "code",
   "execution_count": 2,
   "metadata": {},
   "outputs": [
    {
     "name": "stderr",
     "output_type": "stream",
     "text": [
      "D:\\Anaconda\\lib\\site-packages\\sklearn\\ensemble\\weight_boosting.py:29: DeprecationWarning: numpy.core.umath_tests is an internal NumPy module and should not be imported. It will be removed in a future NumPy release.\n",
      "  from numpy.core.umath_tests import inner1d\n"
     ]
    }
   ],
   "source": [
    "from sklearn.model_selection import KFold\n",
    "from sklearn.model_selection import train_test_split\n",
    "from sklearn.model_selection import GridSearchCV\n",
    "from sklearn.preprocessing import StandardScaler\n",
    "\n",
    "from sklearn.linear_model import LinearRegression\n",
    "from sklearn.linear_model import Lasso\n",
    "from sklearn.linear_model import Ridge\n",
    "from sklearn.linear_model import ElasticNet\n",
    "from sklearn.ensemble import RandomForestRegressor\n",
    "\n",
    "from sklearn import metrics\n",
    "from sklearn.metrics import mean_squared_error\n",
    "from sklearn.model_selection import cross_val_score\n",
    "\n",
    "from scipy import stats"
   ]
  },
  {
   "cell_type": "code",
   "execution_count": 3,
   "metadata": {},
   "outputs": [
    {
     "data": {
      "text/html": [
       "<div>\n",
       "<style scoped>\n",
       "    .dataframe tbody tr th:only-of-type {\n",
       "        vertical-align: middle;\n",
       "    }\n",
       "\n",
       "    .dataframe tbody tr th {\n",
       "        vertical-align: top;\n",
       "    }\n",
       "\n",
       "    .dataframe thead th {\n",
       "        text-align: right;\n",
       "    }\n",
       "</style>\n",
       "<table border=\"1\" class=\"dataframe\">\n",
       "  <thead>\n",
       "    <tr style=\"text-align: right;\">\n",
       "      <th></th>\n",
       "      <th>Unnamed: 0</th>\n",
       "      <th>BOROUGH</th>\n",
       "      <th>NEIGHBORHOOD</th>\n",
       "      <th>BUILDING CLASS CATEGORY</th>\n",
       "      <th>TAX CLASS AT PRESENT</th>\n",
       "      <th>BLOCK</th>\n",
       "      <th>LOT</th>\n",
       "      <th>EASE-MENT</th>\n",
       "      <th>BUILDING CLASS AT PRESENT</th>\n",
       "      <th>ADDRESS</th>\n",
       "      <th>...</th>\n",
       "      <th>RESIDENTIAL UNITS</th>\n",
       "      <th>COMMERCIAL UNITS</th>\n",
       "      <th>TOTAL UNITS</th>\n",
       "      <th>LAND SQUARE FEET</th>\n",
       "      <th>GROSS SQUARE FEET</th>\n",
       "      <th>YEAR BUILT</th>\n",
       "      <th>TAX CLASS AT TIME OF SALE</th>\n",
       "      <th>BUILDING CLASS AT TIME OF SALE</th>\n",
       "      <th>SALE PRICE</th>\n",
       "      <th>SALE DATE</th>\n",
       "    </tr>\n",
       "  </thead>\n",
       "  <tbody>\n",
       "    <tr>\n",
       "      <th>0</th>\n",
       "      <td>4</td>\n",
       "      <td>1</td>\n",
       "      <td>ALPHABET CITY</td>\n",
       "      <td>07 RENTALS - WALKUP APARTMENTS</td>\n",
       "      <td>2A</td>\n",
       "      <td>392</td>\n",
       "      <td>6</td>\n",
       "      <td></td>\n",
       "      <td>C2</td>\n",
       "      <td>153 AVENUE B</td>\n",
       "      <td>...</td>\n",
       "      <td>5</td>\n",
       "      <td>0</td>\n",
       "      <td>5</td>\n",
       "      <td>1633</td>\n",
       "      <td>6440</td>\n",
       "      <td>1900</td>\n",
       "      <td>2</td>\n",
       "      <td>C2</td>\n",
       "      <td>6625000</td>\n",
       "      <td>2017-07-19 00:00:00</td>\n",
       "    </tr>\n",
       "    <tr>\n",
       "      <th>1</th>\n",
       "      <td>5</td>\n",
       "      <td>1</td>\n",
       "      <td>ALPHABET CITY</td>\n",
       "      <td>07 RENTALS - WALKUP APARTMENTS</td>\n",
       "      <td>2</td>\n",
       "      <td>399</td>\n",
       "      <td>26</td>\n",
       "      <td></td>\n",
       "      <td>C7</td>\n",
       "      <td>234 EAST 4TH   STREET</td>\n",
       "      <td>...</td>\n",
       "      <td>28</td>\n",
       "      <td>3</td>\n",
       "      <td>31</td>\n",
       "      <td>4616</td>\n",
       "      <td>18690</td>\n",
       "      <td>1900</td>\n",
       "      <td>2</td>\n",
       "      <td>C7</td>\n",
       "      <td>-</td>\n",
       "      <td>2016-12-14 00:00:00</td>\n",
       "    </tr>\n",
       "    <tr>\n",
       "      <th>2</th>\n",
       "      <td>6</td>\n",
       "      <td>1</td>\n",
       "      <td>ALPHABET CITY</td>\n",
       "      <td>07 RENTALS - WALKUP APARTMENTS</td>\n",
       "      <td>2</td>\n",
       "      <td>399</td>\n",
       "      <td>39</td>\n",
       "      <td></td>\n",
       "      <td>C7</td>\n",
       "      <td>197 EAST 3RD   STREET</td>\n",
       "      <td>...</td>\n",
       "      <td>16</td>\n",
       "      <td>1</td>\n",
       "      <td>17</td>\n",
       "      <td>2212</td>\n",
       "      <td>7803</td>\n",
       "      <td>1900</td>\n",
       "      <td>2</td>\n",
       "      <td>C7</td>\n",
       "      <td>-</td>\n",
       "      <td>2016-12-09 00:00:00</td>\n",
       "    </tr>\n",
       "    <tr>\n",
       "      <th>3</th>\n",
       "      <td>7</td>\n",
       "      <td>1</td>\n",
       "      <td>ALPHABET CITY</td>\n",
       "      <td>07 RENTALS - WALKUP APARTMENTS</td>\n",
       "      <td>2B</td>\n",
       "      <td>402</td>\n",
       "      <td>21</td>\n",
       "      <td></td>\n",
       "      <td>C4</td>\n",
       "      <td>154 EAST 7TH STREET</td>\n",
       "      <td>...</td>\n",
       "      <td>10</td>\n",
       "      <td>0</td>\n",
       "      <td>10</td>\n",
       "      <td>2272</td>\n",
       "      <td>6794</td>\n",
       "      <td>1913</td>\n",
       "      <td>2</td>\n",
       "      <td>C4</td>\n",
       "      <td>3936272</td>\n",
       "      <td>2016-09-23 00:00:00</td>\n",
       "    </tr>\n",
       "    <tr>\n",
       "      <th>4</th>\n",
       "      <td>8</td>\n",
       "      <td>1</td>\n",
       "      <td>ALPHABET CITY</td>\n",
       "      <td>07 RENTALS - WALKUP APARTMENTS</td>\n",
       "      <td>2A</td>\n",
       "      <td>404</td>\n",
       "      <td>55</td>\n",
       "      <td></td>\n",
       "      <td>C2</td>\n",
       "      <td>301 EAST 10TH   STREET</td>\n",
       "      <td>...</td>\n",
       "      <td>6</td>\n",
       "      <td>0</td>\n",
       "      <td>6</td>\n",
       "      <td>2369</td>\n",
       "      <td>4615</td>\n",
       "      <td>1900</td>\n",
       "      <td>2</td>\n",
       "      <td>C2</td>\n",
       "      <td>8000000</td>\n",
       "      <td>2016-11-17 00:00:00</td>\n",
       "    </tr>\n",
       "    <tr>\n",
       "      <th>5</th>\n",
       "      <td>9</td>\n",
       "      <td>1</td>\n",
       "      <td>ALPHABET CITY</td>\n",
       "      <td>07 RENTALS - WALKUP APARTMENTS</td>\n",
       "      <td>2</td>\n",
       "      <td>405</td>\n",
       "      <td>16</td>\n",
       "      <td></td>\n",
       "      <td>C4</td>\n",
       "      <td>516 EAST 12TH   STREET</td>\n",
       "      <td>...</td>\n",
       "      <td>20</td>\n",
       "      <td>0</td>\n",
       "      <td>20</td>\n",
       "      <td>2581</td>\n",
       "      <td>9730</td>\n",
       "      <td>1900</td>\n",
       "      <td>2</td>\n",
       "      <td>C4</td>\n",
       "      <td>-</td>\n",
       "      <td>2017-07-20 00:00:00</td>\n",
       "    </tr>\n",
       "    <tr>\n",
       "      <th>6</th>\n",
       "      <td>10</td>\n",
       "      <td>1</td>\n",
       "      <td>ALPHABET CITY</td>\n",
       "      <td>07 RENTALS - WALKUP APARTMENTS</td>\n",
       "      <td>2B</td>\n",
       "      <td>406</td>\n",
       "      <td>32</td>\n",
       "      <td></td>\n",
       "      <td>C4</td>\n",
       "      <td>210 AVENUE B</td>\n",
       "      <td>...</td>\n",
       "      <td>8</td>\n",
       "      <td>0</td>\n",
       "      <td>8</td>\n",
       "      <td>1750</td>\n",
       "      <td>4226</td>\n",
       "      <td>1920</td>\n",
       "      <td>2</td>\n",
       "      <td>C4</td>\n",
       "      <td>3192840</td>\n",
       "      <td>2016-09-23 00:00:00</td>\n",
       "    </tr>\n",
       "    <tr>\n",
       "      <th>7</th>\n",
       "      <td>11</td>\n",
       "      <td>1</td>\n",
       "      <td>ALPHABET CITY</td>\n",
       "      <td>07 RENTALS - WALKUP APARTMENTS</td>\n",
       "      <td>2</td>\n",
       "      <td>407</td>\n",
       "      <td>18</td>\n",
       "      <td></td>\n",
       "      <td>C7</td>\n",
       "      <td>520 EAST 14TH   STREET</td>\n",
       "      <td>...</td>\n",
       "      <td>44</td>\n",
       "      <td>2</td>\n",
       "      <td>46</td>\n",
       "      <td>5163</td>\n",
       "      <td>21007</td>\n",
       "      <td>1900</td>\n",
       "      <td>2</td>\n",
       "      <td>C7</td>\n",
       "      <td>-</td>\n",
       "      <td>2017-07-20 00:00:00</td>\n",
       "    </tr>\n",
       "    <tr>\n",
       "      <th>8</th>\n",
       "      <td>12</td>\n",
       "      <td>1</td>\n",
       "      <td>ALPHABET CITY</td>\n",
       "      <td>08 RENTALS - ELEVATOR APARTMENTS</td>\n",
       "      <td>2</td>\n",
       "      <td>379</td>\n",
       "      <td>34</td>\n",
       "      <td></td>\n",
       "      <td>D5</td>\n",
       "      <td>141 AVENUE D</td>\n",
       "      <td>...</td>\n",
       "      <td>15</td>\n",
       "      <td>0</td>\n",
       "      <td>15</td>\n",
       "      <td>1534</td>\n",
       "      <td>9198</td>\n",
       "      <td>1920</td>\n",
       "      <td>2</td>\n",
       "      <td>D5</td>\n",
       "      <td>-</td>\n",
       "      <td>2017-06-20 00:00:00</td>\n",
       "    </tr>\n",
       "    <tr>\n",
       "      <th>9</th>\n",
       "      <td>13</td>\n",
       "      <td>1</td>\n",
       "      <td>ALPHABET CITY</td>\n",
       "      <td>08 RENTALS - ELEVATOR APARTMENTS</td>\n",
       "      <td>2</td>\n",
       "      <td>387</td>\n",
       "      <td>153</td>\n",
       "      <td></td>\n",
       "      <td>D9</td>\n",
       "      <td>629 EAST 5TH STREET</td>\n",
       "      <td>...</td>\n",
       "      <td>24</td>\n",
       "      <td>0</td>\n",
       "      <td>24</td>\n",
       "      <td>4489</td>\n",
       "      <td>18523</td>\n",
       "      <td>1920</td>\n",
       "      <td>2</td>\n",
       "      <td>D9</td>\n",
       "      <td>16232000</td>\n",
       "      <td>2016-11-07 00:00:00</td>\n",
       "    </tr>\n",
       "    <tr>\n",
       "      <th>10</th>\n",
       "      <td>14</td>\n",
       "      <td>1</td>\n",
       "      <td>ALPHABET CITY</td>\n",
       "      <td>08 RENTALS - ELEVATOR APARTMENTS</td>\n",
       "      <td>2</td>\n",
       "      <td>394</td>\n",
       "      <td>44</td>\n",
       "      <td></td>\n",
       "      <td>D7</td>\n",
       "      <td>181 AVENUE C</td>\n",
       "      <td>...</td>\n",
       "      <td>30</td>\n",
       "      <td>4</td>\n",
       "      <td>34</td>\n",
       "      <td>4295</td>\n",
       "      <td>21328</td>\n",
       "      <td>1910</td>\n",
       "      <td>2</td>\n",
       "      <td>D7</td>\n",
       "      <td>-</td>\n",
       "      <td>2017-07-20 00:00:00</td>\n",
       "    </tr>\n",
       "    <tr>\n",
       "      <th>11</th>\n",
       "      <td>15</td>\n",
       "      <td>1</td>\n",
       "      <td>ALPHABET CITY</td>\n",
       "      <td>08 RENTALS - ELEVATOR APARTMENTS</td>\n",
       "      <td>2B</td>\n",
       "      <td>400</td>\n",
       "      <td>21</td>\n",
       "      <td></td>\n",
       "      <td>D1</td>\n",
       "      <td>530-532 EAST 5TH STREET</td>\n",
       "      <td>...</td>\n",
       "      <td>10</td>\n",
       "      <td>0</td>\n",
       "      <td>10</td>\n",
       "      <td>3717</td>\n",
       "      <td>12350</td>\n",
       "      <td>2009</td>\n",
       "      <td>2</td>\n",
       "      <td>D1</td>\n",
       "      <td>10350000</td>\n",
       "      <td>2016-10-17 00:00:00</td>\n",
       "    </tr>\n",
       "    <tr>\n",
       "      <th>12</th>\n",
       "      <td>16</td>\n",
       "      <td>1</td>\n",
       "      <td>ALPHABET CITY</td>\n",
       "      <td>09 COOPS - WALKUP APARTMENTS</td>\n",
       "      <td>2</td>\n",
       "      <td>373</td>\n",
       "      <td>40</td>\n",
       "      <td></td>\n",
       "      <td>C6</td>\n",
       "      <td>327 EAST 3 STREET, 1C</td>\n",
       "      <td>...</td>\n",
       "      <td>0</td>\n",
       "      <td>0</td>\n",
       "      <td>0</td>\n",
       "      <td>-</td>\n",
       "      <td>-</td>\n",
       "      <td>1920</td>\n",
       "      <td>2</td>\n",
       "      <td>C6</td>\n",
       "      <td>1</td>\n",
       "      <td>2016-09-06 00:00:00</td>\n",
       "    </tr>\n",
       "    <tr>\n",
       "      <th>13</th>\n",
       "      <td>17</td>\n",
       "      <td>1</td>\n",
       "      <td>ALPHABET CITY</td>\n",
       "      <td>09 COOPS - WALKUP APARTMENTS</td>\n",
       "      <td>2</td>\n",
       "      <td>373</td>\n",
       "      <td>40</td>\n",
       "      <td></td>\n",
       "      <td>C6</td>\n",
       "      <td>327 EAST 3 STREET, 1C</td>\n",
       "      <td>...</td>\n",
       "      <td>0</td>\n",
       "      <td>0</td>\n",
       "      <td>0</td>\n",
       "      <td>-</td>\n",
       "      <td>-</td>\n",
       "      <td>1920</td>\n",
       "      <td>2</td>\n",
       "      <td>C6</td>\n",
       "      <td>499000</td>\n",
       "      <td>2017-03-10 00:00:00</td>\n",
       "    </tr>\n",
       "    <tr>\n",
       "      <th>14</th>\n",
       "      <td>18</td>\n",
       "      <td>1</td>\n",
       "      <td>ALPHABET CITY</td>\n",
       "      <td>09 COOPS - WALKUP APARTMENTS</td>\n",
       "      <td>2</td>\n",
       "      <td>373</td>\n",
       "      <td>40</td>\n",
       "      <td></td>\n",
       "      <td>C6</td>\n",
       "      <td>327 EAST 3 STREET, 3A</td>\n",
       "      <td>...</td>\n",
       "      <td>0</td>\n",
       "      <td>0</td>\n",
       "      <td>0</td>\n",
       "      <td>-</td>\n",
       "      <td>-</td>\n",
       "      <td>1920</td>\n",
       "      <td>2</td>\n",
       "      <td>C6</td>\n",
       "      <td>10</td>\n",
       "      <td>2017-04-28 00:00:00</td>\n",
       "    </tr>\n",
       "    <tr>\n",
       "      <th>15</th>\n",
       "      <td>19</td>\n",
       "      <td>1</td>\n",
       "      <td>ALPHABET CITY</td>\n",
       "      <td>09 COOPS - WALKUP APARTMENTS</td>\n",
       "      <td>2</td>\n",
       "      <td>373</td>\n",
       "      <td>40</td>\n",
       "      <td></td>\n",
       "      <td>C6</td>\n",
       "      <td>327 EAST 3RD STREET, 5A</td>\n",
       "      <td>...</td>\n",
       "      <td>0</td>\n",
       "      <td>0</td>\n",
       "      <td>0</td>\n",
       "      <td>-</td>\n",
       "      <td>-</td>\n",
       "      <td>1920</td>\n",
       "      <td>2</td>\n",
       "      <td>C6</td>\n",
       "      <td>529500</td>\n",
       "      <td>2017-06-09 00:00:00</td>\n",
       "    </tr>\n",
       "    <tr>\n",
       "      <th>16</th>\n",
       "      <td>20</td>\n",
       "      <td>1</td>\n",
       "      <td>ALPHABET CITY</td>\n",
       "      <td>09 COOPS - WALKUP APARTMENTS</td>\n",
       "      <td>2</td>\n",
       "      <td>373</td>\n",
       "      <td>40</td>\n",
       "      <td></td>\n",
       "      <td>C6</td>\n",
       "      <td>327 EAST 3 STREET, 2E</td>\n",
       "      <td>...</td>\n",
       "      <td>0</td>\n",
       "      <td>0</td>\n",
       "      <td>0</td>\n",
       "      <td>-</td>\n",
       "      <td>-</td>\n",
       "      <td>1920</td>\n",
       "      <td>2</td>\n",
       "      <td>C6</td>\n",
       "      <td>423000</td>\n",
       "      <td>2017-07-14 00:00:00</td>\n",
       "    </tr>\n",
       "    <tr>\n",
       "      <th>17</th>\n",
       "      <td>21</td>\n",
       "      <td>1</td>\n",
       "      <td>ALPHABET CITY</td>\n",
       "      <td>09 COOPS - WALKUP APARTMENTS</td>\n",
       "      <td>2</td>\n",
       "      <td>373</td>\n",
       "      <td>46</td>\n",
       "      <td></td>\n",
       "      <td>C6</td>\n",
       "      <td>317 EAST 3RD STREET, 12</td>\n",
       "      <td>...</td>\n",
       "      <td>0</td>\n",
       "      <td>0</td>\n",
       "      <td>0</td>\n",
       "      <td>-</td>\n",
       "      <td>-</td>\n",
       "      <td>1925</td>\n",
       "      <td>2</td>\n",
       "      <td>C6</td>\n",
       "      <td>501000</td>\n",
       "      <td>2017-03-16 00:00:00</td>\n",
       "    </tr>\n",
       "    <tr>\n",
       "      <th>18</th>\n",
       "      <td>22</td>\n",
       "      <td>1</td>\n",
       "      <td>ALPHABET CITY</td>\n",
       "      <td>09 COOPS - WALKUP APARTMENTS</td>\n",
       "      <td>2</td>\n",
       "      <td>373</td>\n",
       "      <td>49</td>\n",
       "      <td></td>\n",
       "      <td>C6</td>\n",
       "      <td>311 EAST 3RD STREET, 17</td>\n",
       "      <td>...</td>\n",
       "      <td>0</td>\n",
       "      <td>0</td>\n",
       "      <td>0</td>\n",
       "      <td>-</td>\n",
       "      <td>-</td>\n",
       "      <td>1920</td>\n",
       "      <td>2</td>\n",
       "      <td>C6</td>\n",
       "      <td>450000</td>\n",
       "      <td>2016-09-01 00:00:00</td>\n",
       "    </tr>\n",
       "    <tr>\n",
       "      <th>19</th>\n",
       "      <td>23</td>\n",
       "      <td>1</td>\n",
       "      <td>ALPHABET CITY</td>\n",
       "      <td>09 COOPS - WALKUP APARTMENTS</td>\n",
       "      <td>2</td>\n",
       "      <td>373</td>\n",
       "      <td>49</td>\n",
       "      <td></td>\n",
       "      <td>C6</td>\n",
       "      <td>311 EAST 3RD, 22</td>\n",
       "      <td>...</td>\n",
       "      <td>0</td>\n",
       "      <td>0</td>\n",
       "      <td>0</td>\n",
       "      <td>-</td>\n",
       "      <td>-</td>\n",
       "      <td>1920</td>\n",
       "      <td>2</td>\n",
       "      <td>C6</td>\n",
       "      <td>510000</td>\n",
       "      <td>2017-08-17 00:00:00</td>\n",
       "    </tr>\n",
       "  </tbody>\n",
       "</table>\n",
       "<p>20 rows × 22 columns</p>\n",
       "</div>"
      ],
      "text/plain": [
       "    Unnamed: 0  BOROUGH   NEIGHBORHOOD  \\\n",
       "0            4        1  ALPHABET CITY   \n",
       "1            5        1  ALPHABET CITY   \n",
       "2            6        1  ALPHABET CITY   \n",
       "3            7        1  ALPHABET CITY   \n",
       "4            8        1  ALPHABET CITY   \n",
       "5            9        1  ALPHABET CITY   \n",
       "6           10        1  ALPHABET CITY   \n",
       "7           11        1  ALPHABET CITY   \n",
       "8           12        1  ALPHABET CITY   \n",
       "9           13        1  ALPHABET CITY   \n",
       "10          14        1  ALPHABET CITY   \n",
       "11          15        1  ALPHABET CITY   \n",
       "12          16        1  ALPHABET CITY   \n",
       "13          17        1  ALPHABET CITY   \n",
       "14          18        1  ALPHABET CITY   \n",
       "15          19        1  ALPHABET CITY   \n",
       "16          20        1  ALPHABET CITY   \n",
       "17          21        1  ALPHABET CITY   \n",
       "18          22        1  ALPHABET CITY   \n",
       "19          23        1  ALPHABET CITY   \n",
       "\n",
       "                        BUILDING CLASS CATEGORY TAX CLASS AT PRESENT  BLOCK  \\\n",
       "0   07 RENTALS - WALKUP APARTMENTS                                2A    392   \n",
       "1   07 RENTALS - WALKUP APARTMENTS                                 2    399   \n",
       "2   07 RENTALS - WALKUP APARTMENTS                                 2    399   \n",
       "3   07 RENTALS - WALKUP APARTMENTS                                2B    402   \n",
       "4   07 RENTALS - WALKUP APARTMENTS                                2A    404   \n",
       "5   07 RENTALS - WALKUP APARTMENTS                                 2    405   \n",
       "6   07 RENTALS - WALKUP APARTMENTS                                2B    406   \n",
       "7   07 RENTALS - WALKUP APARTMENTS                                 2    407   \n",
       "8   08 RENTALS - ELEVATOR APARTMENTS                               2    379   \n",
       "9   08 RENTALS - ELEVATOR APARTMENTS                               2    387   \n",
       "10  08 RENTALS - ELEVATOR APARTMENTS                               2    394   \n",
       "11  08 RENTALS - ELEVATOR APARTMENTS                              2B    400   \n",
       "12  09 COOPS - WALKUP APARTMENTS                                   2    373   \n",
       "13  09 COOPS - WALKUP APARTMENTS                                   2    373   \n",
       "14  09 COOPS - WALKUP APARTMENTS                                   2    373   \n",
       "15  09 COOPS - WALKUP APARTMENTS                                   2    373   \n",
       "16  09 COOPS - WALKUP APARTMENTS                                   2    373   \n",
       "17  09 COOPS - WALKUP APARTMENTS                                   2    373   \n",
       "18  09 COOPS - WALKUP APARTMENTS                                   2    373   \n",
       "19  09 COOPS - WALKUP APARTMENTS                                   2    373   \n",
       "\n",
       "    LOT EASE-MENT BUILDING CLASS AT PRESENT                  ADDRESS  \\\n",
       "0     6                                  C2             153 AVENUE B   \n",
       "1    26                                  C7    234 EAST 4TH   STREET   \n",
       "2    39                                  C7    197 EAST 3RD   STREET   \n",
       "3    21                                  C4      154 EAST 7TH STREET   \n",
       "4    55                                  C2   301 EAST 10TH   STREET   \n",
       "5    16                                  C4   516 EAST 12TH   STREET   \n",
       "6    32                                  C4             210 AVENUE B   \n",
       "7    18                                  C7   520 EAST 14TH   STREET   \n",
       "8    34                                  D5             141 AVENUE D   \n",
       "9   153                                  D9      629 EAST 5TH STREET   \n",
       "10   44                                  D7             181 AVENUE C   \n",
       "11   21                                  D1  530-532 EAST 5TH STREET   \n",
       "12   40                                  C6    327 EAST 3 STREET, 1C   \n",
       "13   40                                  C6    327 EAST 3 STREET, 1C   \n",
       "14   40                                  C6    327 EAST 3 STREET, 3A   \n",
       "15   40                                  C6  327 EAST 3RD STREET, 5A   \n",
       "16   40                                  C6    327 EAST 3 STREET, 2E   \n",
       "17   46                                  C6  317 EAST 3RD STREET, 12   \n",
       "18   49                                  C6  311 EAST 3RD STREET, 17   \n",
       "19   49                                  C6         311 EAST 3RD, 22   \n",
       "\n",
       "           ...          RESIDENTIAL UNITS  COMMERCIAL UNITS  TOTAL UNITS  \\\n",
       "0          ...                          5                 0            5   \n",
       "1          ...                         28                 3           31   \n",
       "2          ...                         16                 1           17   \n",
       "3          ...                         10                 0           10   \n",
       "4          ...                          6                 0            6   \n",
       "5          ...                         20                 0           20   \n",
       "6          ...                          8                 0            8   \n",
       "7          ...                         44                 2           46   \n",
       "8          ...                         15                 0           15   \n",
       "9          ...                         24                 0           24   \n",
       "10         ...                         30                 4           34   \n",
       "11         ...                         10                 0           10   \n",
       "12         ...                          0                 0            0   \n",
       "13         ...                          0                 0            0   \n",
       "14         ...                          0                 0            0   \n",
       "15         ...                          0                 0            0   \n",
       "16         ...                          0                 0            0   \n",
       "17         ...                          0                 0            0   \n",
       "18         ...                          0                 0            0   \n",
       "19         ...                          0                 0            0   \n",
       "\n",
       "    LAND SQUARE FEET  GROSS SQUARE FEET YEAR BUILT TAX CLASS AT TIME OF SALE  \\\n",
       "0               1633               6440       1900                         2   \n",
       "1               4616              18690       1900                         2   \n",
       "2               2212               7803       1900                         2   \n",
       "3               2272               6794       1913                         2   \n",
       "4               2369               4615       1900                         2   \n",
       "5               2581               9730       1900                         2   \n",
       "6               1750               4226       1920                         2   \n",
       "7               5163              21007       1900                         2   \n",
       "8               1534               9198       1920                         2   \n",
       "9               4489              18523       1920                         2   \n",
       "10              4295              21328       1910                         2   \n",
       "11              3717              12350       2009                         2   \n",
       "12               -                  -         1920                         2   \n",
       "13               -                  -         1920                         2   \n",
       "14               -                  -         1920                         2   \n",
       "15               -                  -         1920                         2   \n",
       "16               -                  -         1920                         2   \n",
       "17               -                  -         1925                         2   \n",
       "18               -                  -         1920                         2   \n",
       "19               -                  -         1920                         2   \n",
       "\n",
       "    BUILDING CLASS AT TIME OF SALE  SALE PRICE            SALE DATE  \n",
       "0                               C2     6625000  2017-07-19 00:00:00  \n",
       "1                               C7         -    2016-12-14 00:00:00  \n",
       "2                               C7         -    2016-12-09 00:00:00  \n",
       "3                               C4     3936272  2016-09-23 00:00:00  \n",
       "4                               C2     8000000  2016-11-17 00:00:00  \n",
       "5                               C4         -    2017-07-20 00:00:00  \n",
       "6                               C4     3192840  2016-09-23 00:00:00  \n",
       "7                               C7         -    2017-07-20 00:00:00  \n",
       "8                               D5         -    2017-06-20 00:00:00  \n",
       "9                               D9    16232000  2016-11-07 00:00:00  \n",
       "10                              D7         -    2017-07-20 00:00:00  \n",
       "11                              D1    10350000  2016-10-17 00:00:00  \n",
       "12                              C6           1  2016-09-06 00:00:00  \n",
       "13                              C6      499000  2017-03-10 00:00:00  \n",
       "14                              C6          10  2017-04-28 00:00:00  \n",
       "15                              C6      529500  2017-06-09 00:00:00  \n",
       "16                              C6      423000  2017-07-14 00:00:00  \n",
       "17                              C6      501000  2017-03-16 00:00:00  \n",
       "18                              C6      450000  2016-09-01 00:00:00  \n",
       "19                              C6      510000  2017-08-17 00:00:00  \n",
       "\n",
       "[20 rows x 22 columns]"
      ]
     },
     "execution_count": 3,
     "metadata": {},
     "output_type": "execute_result"
    }
   ],
   "source": [
    "DATASET_PATH = 'C:\\\\Users\\\\123\\Desktop\\\\nyc-rolling-sales.csv'\n",
    "\n",
    "data = pd.read_csv(DATASET_PATH)\n",
    "data.head(20)"
   ]
  },
  {
   "cell_type": "code",
   "execution_count": 4,
   "metadata": {},
   "outputs": [],
   "source": [
    "del data['EASE-MENT']   # column is empty\n",
    "del data['Unnamed: 0']  # not relevant, might be an iterator\n",
    "del data['SALE DATE']"
   ]
  },
  {
   "cell_type": "code",
   "execution_count": 5,
   "metadata": {},
   "outputs": [
    {
     "data": {
      "text/plain": [
       "1358"
      ]
     },
     "execution_count": 5,
     "metadata": {},
     "output_type": "execute_result"
    }
   ],
   "source": [
    "# Check for duplicated entries\n",
    "sum(data.duplicated(data.columns))"
   ]
  },
  {
   "cell_type": "code",
   "execution_count": 6,
   "metadata": {},
   "outputs": [
    {
     "data": {
      "text/plain": [
       "0"
      ]
     },
     "execution_count": 6,
     "metadata": {},
     "output_type": "execute_result"
    }
   ],
   "source": [
    "data = data.drop_duplicates(data.columns, keep='last')\n",
    "sum(data.duplicated(data.columns))"
   ]
  },
  {
   "cell_type": "code",
   "execution_count": 7,
   "metadata": {},
   "outputs": [
    {
     "data": {
      "text/plain": [
       "(83190, 19)"
      ]
     },
     "execution_count": 7,
     "metadata": {},
     "output_type": "execute_result"
    }
   ],
   "source": [
    "data.shape"
   ]
  },
  {
   "cell_type": "code",
   "execution_count": 8,
   "metadata": {},
   "outputs": [
    {
     "name": "stdout",
     "output_type": "stream",
     "text": [
      "<class 'pandas.core.frame.DataFrame'>\n",
      "Int64Index: 83190 entries, 0 to 84547\n",
      "Data columns (total 19 columns):\n",
      "BOROUGH                           83190 non-null int64\n",
      "NEIGHBORHOOD                      83190 non-null object\n",
      "BUILDING CLASS CATEGORY           83190 non-null object\n",
      "TAX CLASS AT PRESENT              83190 non-null object\n",
      "BLOCK                             83190 non-null int64\n",
      "LOT                               83190 non-null int64\n",
      "BUILDING CLASS AT PRESENT         83190 non-null object\n",
      "ADDRESS                           83190 non-null object\n",
      "APARTMENT NUMBER                  83190 non-null object\n",
      "ZIP CODE                          83190 non-null int64\n",
      "RESIDENTIAL UNITS                 83190 non-null int64\n",
      "COMMERCIAL UNITS                  83190 non-null int64\n",
      "TOTAL UNITS                       83190 non-null int64\n",
      "LAND SQUARE FEET                  83190 non-null object\n",
      "GROSS SQUARE FEET                 83190 non-null object\n",
      "YEAR BUILT                        83190 non-null int64\n",
      "TAX CLASS AT TIME OF SALE         83190 non-null int64\n",
      "BUILDING CLASS AT TIME OF SALE    83190 non-null object\n",
      "SALE PRICE                        83190 non-null object\n",
      "dtypes: int64(9), object(10)\n",
      "memory usage: 12.7+ MB\n"
     ]
    }
   ],
   "source": [
    "data.info()"
   ]
  },
  {
   "cell_type": "code",
   "execution_count": 9,
   "metadata": {},
   "outputs": [],
   "source": [
    "# Convert some columns to the appropriate datatype\n",
    "\n",
    "data['TAX CLASS AT TIME OF SALE'] = data['TAX CLASS AT TIME OF SALE'].astype('category')\n",
    "\n",
    "data['TAX CLASS AT PRESENT'] = data['TAX CLASS AT PRESENT'].astype('category')\n",
    "\n",
    "data['LAND SQUARE FEET'] = pd.to_numeric(data['LAND SQUARE FEET'], errors='coerce')\n",
    "\n",
    "data['GROSS SQUARE FEET'] = pd.to_numeric(data['GROSS SQUARE FEET'], errors='coerce')\n",
    "\n",
    "data['SALE PRICE'] = pd.to_numeric(data['SALE PRICE'], errors='coerce')\n",
    "\n",
    "data['BOROUGH'] = data['BOROUGH'].astype('category')"
   ]
  },
  {
   "cell_type": "code",
   "execution_count": 10,
   "metadata": {},
   "outputs": [
    {
     "data": {
      "text/plain": [
       "Index(['LAND SQUARE FEET', 'GROSS SQUARE FEET', 'SALE PRICE'], dtype='object')"
      ]
     },
     "execution_count": 10,
     "metadata": {},
     "output_type": "execute_result"
    }
   ],
   "source": [
    "data.columns[data.isnull().any()]"
   ]
  },
  {
   "cell_type": "code",
   "execution_count": 11,
   "metadata": {},
   "outputs": [],
   "source": [
    "# replace null value with the mean values\n",
    "\n",
    "data['LAND SQUARE FEET']=data['LAND SQUARE FEET'].fillna(data['LAND SQUARE FEET'].mean())\n",
    "data['GROSS SQUARE FEET']=data['GROSS SQUARE FEET'].fillna(data['GROSS SQUARE FEET'].mean())"
   ]
  },
  {
   "cell_type": "code",
   "execution_count": 12,
   "metadata": {},
   "outputs": [
    {
     "data": {
      "text/plain": [
       "Index(['SALE PRICE'], dtype='object')"
      ]
     },
     "execution_count": 12,
     "metadata": {},
     "output_type": "execute_result"
    }
   ],
   "source": [
    "data.columns[data.isnull().any()]"
   ]
  },
  {
   "cell_type": "code",
   "execution_count": 13,
   "metadata": {},
   "outputs": [],
   "source": [
    "# Splitting dataset\n",
    "\n",
    "test = data[data['SALE PRICE'].isna()]\n",
    "data = data[~data['SALE PRICE'].isna()]"
   ]
  },
  {
   "cell_type": "code",
   "execution_count": 14,
   "metadata": {},
   "outputs": [
    {
     "data": {
      "text/plain": [
       "(13909, 18)"
      ]
     },
     "execution_count": 14,
     "metadata": {},
     "output_type": "execute_result"
    }
   ],
   "source": [
    "test = test.drop(columns='SALE PRICE')\n",
    "test.shape"
   ]
  },
  {
   "cell_type": "code",
   "execution_count": 15,
   "metadata": {},
   "outputs": [
    {
     "data": {
      "text/html": [
       "<div>\n",
       "<style scoped>\n",
       "    .dataframe tbody tr th:only-of-type {\n",
       "        vertical-align: middle;\n",
       "    }\n",
       "\n",
       "    .dataframe tbody tr th {\n",
       "        vertical-align: top;\n",
       "    }\n",
       "\n",
       "    .dataframe thead th {\n",
       "        text-align: right;\n",
       "    }\n",
       "</style>\n",
       "<table border=\"1\" class=\"dataframe\">\n",
       "  <thead>\n",
       "    <tr style=\"text-align: right;\">\n",
       "      <th></th>\n",
       "      <th>BOROUGH</th>\n",
       "      <th>NEIGHBORHOOD</th>\n",
       "      <th>BUILDING CLASS CATEGORY</th>\n",
       "      <th>TAX CLASS AT PRESENT</th>\n",
       "      <th>BLOCK</th>\n",
       "      <th>LOT</th>\n",
       "      <th>BUILDING CLASS AT PRESENT</th>\n",
       "      <th>ADDRESS</th>\n",
       "      <th>APARTMENT NUMBER</th>\n",
       "      <th>ZIP CODE</th>\n",
       "      <th>RESIDENTIAL UNITS</th>\n",
       "      <th>COMMERCIAL UNITS</th>\n",
       "      <th>TOTAL UNITS</th>\n",
       "      <th>LAND SQUARE FEET</th>\n",
       "      <th>GROSS SQUARE FEET</th>\n",
       "      <th>YEAR BUILT</th>\n",
       "      <th>TAX CLASS AT TIME OF SALE</th>\n",
       "      <th>BUILDING CLASS AT TIME OF SALE</th>\n",
       "    </tr>\n",
       "  </thead>\n",
       "  <tbody>\n",
       "    <tr>\n",
       "      <th>1</th>\n",
       "      <td>1</td>\n",
       "      <td>ALPHABET CITY</td>\n",
       "      <td>07 RENTALS - WALKUP APARTMENTS</td>\n",
       "      <td>2</td>\n",
       "      <td>399</td>\n",
       "      <td>26</td>\n",
       "      <td>C7</td>\n",
       "      <td>234 EAST 4TH   STREET</td>\n",
       "      <td></td>\n",
       "      <td>10009</td>\n",
       "      <td>28</td>\n",
       "      <td>3</td>\n",
       "      <td>31</td>\n",
       "      <td>4616.0</td>\n",
       "      <td>18690.0</td>\n",
       "      <td>1900</td>\n",
       "      <td>2</td>\n",
       "      <td>C7</td>\n",
       "    </tr>\n",
       "    <tr>\n",
       "      <th>2</th>\n",
       "      <td>1</td>\n",
       "      <td>ALPHABET CITY</td>\n",
       "      <td>07 RENTALS - WALKUP APARTMENTS</td>\n",
       "      <td>2</td>\n",
       "      <td>399</td>\n",
       "      <td>39</td>\n",
       "      <td>C7</td>\n",
       "      <td>197 EAST 3RD   STREET</td>\n",
       "      <td></td>\n",
       "      <td>10009</td>\n",
       "      <td>16</td>\n",
       "      <td>1</td>\n",
       "      <td>17</td>\n",
       "      <td>2212.0</td>\n",
       "      <td>7803.0</td>\n",
       "      <td>1900</td>\n",
       "      <td>2</td>\n",
       "      <td>C7</td>\n",
       "    </tr>\n",
       "    <tr>\n",
       "      <th>5</th>\n",
       "      <td>1</td>\n",
       "      <td>ALPHABET CITY</td>\n",
       "      <td>07 RENTALS - WALKUP APARTMENTS</td>\n",
       "      <td>2</td>\n",
       "      <td>405</td>\n",
       "      <td>16</td>\n",
       "      <td>C4</td>\n",
       "      <td>516 EAST 12TH   STREET</td>\n",
       "      <td></td>\n",
       "      <td>10009</td>\n",
       "      <td>20</td>\n",
       "      <td>0</td>\n",
       "      <td>20</td>\n",
       "      <td>2581.0</td>\n",
       "      <td>9730.0</td>\n",
       "      <td>1900</td>\n",
       "      <td>2</td>\n",
       "      <td>C4</td>\n",
       "    </tr>\n",
       "    <tr>\n",
       "      <th>7</th>\n",
       "      <td>1</td>\n",
       "      <td>ALPHABET CITY</td>\n",
       "      <td>07 RENTALS - WALKUP APARTMENTS</td>\n",
       "      <td>2</td>\n",
       "      <td>407</td>\n",
       "      <td>18</td>\n",
       "      <td>C7</td>\n",
       "      <td>520 EAST 14TH   STREET</td>\n",
       "      <td></td>\n",
       "      <td>10009</td>\n",
       "      <td>44</td>\n",
       "      <td>2</td>\n",
       "      <td>46</td>\n",
       "      <td>5163.0</td>\n",
       "      <td>21007.0</td>\n",
       "      <td>1900</td>\n",
       "      <td>2</td>\n",
       "      <td>C7</td>\n",
       "    </tr>\n",
       "    <tr>\n",
       "      <th>8</th>\n",
       "      <td>1</td>\n",
       "      <td>ALPHABET CITY</td>\n",
       "      <td>08 RENTALS - ELEVATOR APARTMENTS</td>\n",
       "      <td>2</td>\n",
       "      <td>379</td>\n",
       "      <td>34</td>\n",
       "      <td>D5</td>\n",
       "      <td>141 AVENUE D</td>\n",
       "      <td></td>\n",
       "      <td>10009</td>\n",
       "      <td>15</td>\n",
       "      <td>0</td>\n",
       "      <td>15</td>\n",
       "      <td>1534.0</td>\n",
       "      <td>9198.0</td>\n",
       "      <td>1920</td>\n",
       "      <td>2</td>\n",
       "      <td>D5</td>\n",
       "    </tr>\n",
       "  </tbody>\n",
       "</table>\n",
       "</div>"
      ],
      "text/plain": [
       "  BOROUGH   NEIGHBORHOOD                      BUILDING CLASS CATEGORY  \\\n",
       "1       1  ALPHABET CITY  07 RENTALS - WALKUP APARTMENTS                \n",
       "2       1  ALPHABET CITY  07 RENTALS - WALKUP APARTMENTS                \n",
       "5       1  ALPHABET CITY  07 RENTALS - WALKUP APARTMENTS                \n",
       "7       1  ALPHABET CITY  07 RENTALS - WALKUP APARTMENTS                \n",
       "8       1  ALPHABET CITY  08 RENTALS - ELEVATOR APARTMENTS              \n",
       "\n",
       "  TAX CLASS AT PRESENT  BLOCK  LOT BUILDING CLASS AT PRESENT  \\\n",
       "1                    2    399   26                        C7   \n",
       "2                    2    399   39                        C7   \n",
       "5                    2    405   16                        C4   \n",
       "7                    2    407   18                        C7   \n",
       "8                    2    379   34                        D5   \n",
       "\n",
       "                  ADDRESS APARTMENT NUMBER  ZIP CODE  RESIDENTIAL UNITS  \\\n",
       "1   234 EAST 4TH   STREET                      10009                 28   \n",
       "2   197 EAST 3RD   STREET                      10009                 16   \n",
       "5  516 EAST 12TH   STREET                      10009                 20   \n",
       "7  520 EAST 14TH   STREET                      10009                 44   \n",
       "8            141 AVENUE D                      10009                 15   \n",
       "\n",
       "   COMMERCIAL UNITS  TOTAL UNITS  LAND SQUARE FEET  GROSS SQUARE FEET  \\\n",
       "1                 3           31            4616.0            18690.0   \n",
       "2                 1           17            2212.0             7803.0   \n",
       "5                 0           20            2581.0             9730.0   \n",
       "7                 2           46            5163.0            21007.0   \n",
       "8                 0           15            1534.0             9198.0   \n",
       "\n",
       "   YEAR BUILT TAX CLASS AT TIME OF SALE BUILDING CLASS AT TIME OF SALE  \n",
       "1        1900                         2                             C7  \n",
       "2        1900                         2                             C7  \n",
       "5        1900                         2                             C4  \n",
       "7        1900                         2                             C7  \n",
       "8        1920                         2                             D5  "
      ]
     },
     "execution_count": 15,
     "metadata": {},
     "output_type": "execute_result"
    }
   ],
   "source": [
    "test.head()"
   ]
  },
  {
   "cell_type": "code",
   "execution_count": 16,
   "metadata": {},
   "outputs": [
    {
     "data": {
      "text/plain": [
       "(69281, 19)"
      ]
     },
     "execution_count": 16,
     "metadata": {},
     "output_type": "execute_result"
    }
   ],
   "source": [
    "data.shape"
   ]
  },
  {
   "cell_type": "code",
   "execution_count": 17,
   "metadata": {},
   "outputs": [
    {
     "data": {
      "image/png": "[encoded data removed]",
      "text/plain": [
       "<Figure size 432x288 with 2 Axes>"
      ]
     },
     "metadata": {
      "needs_background": "light"
     },
     "output_type": "display_data"
    }
   ],
   "source": [
    "# Find associations between features\n",
    "corr = data.corr()\n",
    "sns.heatmap(corr,cmap=\"YlGnBu\")\n",
    "plt.show()\n",
    "# from the heatmap, dark shades represent positive correlation and light shades represent negative correlation"
   ]
  },
  {
   "cell_type": "code",
   "execution_count": 18,
   "metadata": {},
   "outputs": [
    {
     "data": {
      "text/plain": [
       "<matplotlib.axes._subplots.AxesSubplot at 0x1e678c253c8>"
      ]
     },
     "execution_count": 18,
     "metadata": {},
     "output_type": "execute_result"
    },
    {
     "data": {
      "image/png": "[encoded data removed]",
      "text/plain": [
       "<Figure size 720x720 with 2 Axes>"
      ]
     },
     "metadata": {
      "needs_background": "light"
     },
     "output_type": "display_data"
    }
   ],
   "source": [
    "fig, ax = plt.subplots(figsize=(10,10))\n",
    "sns.heatmap(corr,cmap=\"YlGnBu\", annot=True, linewidths=.5, ax = ax)"
   ]
  },
  {
   "cell_type": "code",
   "execution_count": 19,
   "metadata": {},
   "outputs": [
    {
     "data": {
      "text/plain": [
       "SALE PRICE           1.000000\n",
       "GROSS SQUARE FEET    0.449913\n",
       "TOTAL UNITS          0.126654\n",
       "RESIDENTIAL UNITS    0.122566\n",
       "LAND SQUARE FEET     0.060143\n",
       "COMMERCIAL UNITS     0.044535\n",
       "LOT                  0.012266\n",
       "YEAR BUILT          -0.003779\n",
       "ZIP CODE            -0.034110\n",
       "BLOCK               -0.061357\n",
       "Name: SALE PRICE, dtype: float64"
      ]
     },
     "execution_count": 19,
     "metadata": {},
     "output_type": "execute_result"
    }
   ],
   "source": [
    "# We look at the last row to see the correlation of different features with SALE PRICE\n",
    "\n",
    "corr['SALE PRICE'].sort_values(ascending=False)"
   ]
  },
  {
   "cell_type": "code",
   "execution_count": 20,
   "metadata": {},
   "outputs": [
    {
     "data": {
      "image/png": "[encoded data removed]",
      "text/plain": [
       "<Figure size 1080x432 with 1 Axes>"
      ]
     },
     "metadata": {
      "needs_background": "light"
     },
     "output_type": "display_data"
    }
   ],
   "source": [
    "# Box plot of SALE PRICE\n",
    "\n",
    "plt.figure(figsize=(15, 6))\n",
    "\n",
    "sns.boxplot(x='SALE PRICE', data=data)\n",
    "plt.ticklabel_format(style='plain', axis='x')\n",
    "plt.title('Boxplot of SALE PRICE in USD')\n",
    "plt.show()"
   ]
  },
  {
   "cell_type": "code",
   "execution_count": 21,
   "metadata": {},
   "outputs": [],
   "source": [
    "# Remove observations that fall outside the caps\n",
    "\n",
    "data = data[(data['SALE PRICE'] > 100000) & (data['SALE PRICE'] < 500000000)]"
   ]
  },
  {
   "cell_type": "code",
   "execution_count": 22,
   "metadata": {},
   "outputs": [
    {
     "data": {
      "image/png": "[encoded data removed]",
      "text/plain": [
       "<Figure size 1080x720 with 1 Axes>"
      ]
     },
     "metadata": {
      "needs_background": "light"
     },
     "output_type": "display_data"
    }
   ],
   "source": [
    "# Box plot of SALE PRICE\n",
    "\n",
    "plt.figure(figsize=(15, 10))\n",
    "\n",
    "sns.boxplot(x='SALE PRICE', data=data)\n",
    "plt.ticklabel_format(style='plain', axis='x')\n",
    "plt.title('Boxplot of SALE PRICE in USD')\n",
    "plt.show()"
   ]
  },
  {
   "cell_type": "code",
   "execution_count": 23,
   "metadata": {},
   "outputs": [],
   "source": [
    "# Remove observations that fall outside the caps\n",
    "\n",
    "data = data[data['SALE PRICE'] < 300000000]"
   ]
  },
  {
   "cell_type": "code",
   "execution_count": 24,
   "metadata": {},
   "outputs": [
    {
     "data": {
      "text/plain": [
       "<matplotlib.axes._subplots.AxesSubplot at 0x1e678d59e80>"
      ]
     },
     "execution_count": 24,
     "metadata": {},
     "output_type": "execute_result"
    },
    {
     "data": {
      "image/png": "[encoded data removed]",
      "text/plain": [
       "<Figure size 720x432 with 1 Axes>"
      ]
     },
     "metadata": {
      "needs_background": "light"
     },
     "output_type": "display_data"
    }
   ],
   "source": [
    "# Visualizing numerical data\n",
    "\n",
    "plt.figure(figsize=(10, 6))\n",
    "sns.boxplot(x='GROSS SQUARE FEET', data=data, showfliers=False)"
   ]
  },
  {
   "cell_type": "code",
   "execution_count": 25,
   "metadata": {},
   "outputs": [
    {
     "data": {
      "text/plain": [
       "<matplotlib.axes._subplots.AxesSubplot at 0x1e678fc8588>"
      ]
     },
     "execution_count": 25,
     "metadata": {},
     "output_type": "execute_result"
    },
    {
     "data": {
      "image/png": "[encoded data removed]",
      "text/plain": [
       "<Figure size 720x432 with 1 Axes>"
      ]
     },
     "metadata": {
      "needs_background": "light"
     },
     "output_type": "display_data"
    }
   ],
   "source": [
    "plt.figure(figsize=(10, 6))\n",
    "sns.boxplot(x='LAND SQUARE FEET', data=data, showfliers=False)"
   ]
  },
  {
   "cell_type": "code",
   "execution_count": 26,
   "metadata": {},
   "outputs": [],
   "source": [
    "data = data[data['GROSS SQUARE FEET'] < 10000]\n",
    "data = data[data['LAND SQUARE FEET'] < 10000]"
   ]
  },
  {
   "cell_type": "code",
   "execution_count": 27,
   "metadata": {},
   "outputs": [
    {
     "data": {
      "text/plain": [
       "<matplotlib.axes._subplots.AxesSubplot at 0x1e678ddc0f0>"
      ]
     },
     "execution_count": 27,
     "metadata": {},
     "output_type": "execute_result"
    },
    {
     "data": {
      "image/png": "[encoded data removed]",
      "text/plain": [
       "<Figure size 720x432 with 1 Axes>"
      ]
     },
     "metadata": {
      "needs_background": "light"
     },
     "output_type": "display_data"
    }
   ],
   "source": [
    "\n",
    "plt.figure(figsize=(10, 6))\n",
    "sns.regplot(x='GROSS SQUARE FEET', y='SALE PRICE', data=data, fit_reg=False, scatter_kws={'alpha':0.3})"
   ]
  },
  {
   "cell_type": "code",
   "execution_count": 28,
   "metadata": {},
   "outputs": [
    {
     "data": {
      "text/plain": [
       "<matplotlib.axes._subplots.AxesSubplot at 0x1e678f275c0>"
      ]
     },
     "execution_count": 28,
     "metadata": {},
     "output_type": "execute_result"
    },
    {
     "data": {
      "image/png": "[encoded data removed]",
      "text/plain": [
       "<Figure size 720x432 with 1 Axes>"
      ]
     },
     "metadata": {
      "needs_background": "light"
     },
     "output_type": "display_data"
    }
   ],
   "source": [
    "plt.figure(figsize=(10, 6))\n",
    "sns.regplot(x='LAND SQUARE FEET', y='SALE PRICE', data=data, fit_reg=False, scatter_kws={'alpha':0.3})"
   ]
  },
  {
   "cell_type": "code",
   "execution_count": 29,
   "metadata": {},
   "outputs": [
    {
     "data": {
      "text/html": [
       "<div>\n",
       "<style scoped>\n",
       "    .dataframe tbody tr th:only-of-type {\n",
       "        vertical-align: middle;\n",
       "    }\n",
       "\n",
       "    .dataframe tbody tr th {\n",
       "        vertical-align: top;\n",
       "    }\n",
       "\n",
       "    .dataframe thead th {\n",
       "        text-align: right;\n",
       "    }\n",
       "</style>\n",
       "<table border=\"1\" class=\"dataframe\">\n",
       "  <thead>\n",
       "    <tr style=\"text-align: right;\">\n",
       "      <th></th>\n",
       "      <th>TOTAL UNITS</th>\n",
       "      <th>SALE PRICE</th>\n",
       "    </tr>\n",
       "  </thead>\n",
       "  <tbody>\n",
       "    <tr>\n",
       "      <th>1</th>\n",
       "      <td>1</td>\n",
       "      <td>25594</td>\n",
       "    </tr>\n",
       "    <tr>\n",
       "      <th>0</th>\n",
       "      <td>0</td>\n",
       "      <td>15783</td>\n",
       "    </tr>\n",
       "    <tr>\n",
       "      <th>2</th>\n",
       "      <td>2</td>\n",
       "      <td>9532</td>\n",
       "    </tr>\n",
       "    <tr>\n",
       "      <th>3</th>\n",
       "      <td>3</td>\n",
       "      <td>2761</td>\n",
       "    </tr>\n",
       "    <tr>\n",
       "      <th>4</th>\n",
       "      <td>4</td>\n",
       "      <td>724</td>\n",
       "    </tr>\n",
       "    <tr>\n",
       "      <th>6</th>\n",
       "      <td>6</td>\n",
       "      <td>375</td>\n",
       "    </tr>\n",
       "    <tr>\n",
       "      <th>5</th>\n",
       "      <td>5</td>\n",
       "      <td>191</td>\n",
       "    </tr>\n",
       "    <tr>\n",
       "      <th>8</th>\n",
       "      <td>8</td>\n",
       "      <td>147</td>\n",
       "    </tr>\n",
       "    <tr>\n",
       "      <th>7</th>\n",
       "      <td>7</td>\n",
       "      <td>83</td>\n",
       "    </tr>\n",
       "    <tr>\n",
       "      <th>10</th>\n",
       "      <td>10</td>\n",
       "      <td>78</td>\n",
       "    </tr>\n",
       "    <tr>\n",
       "      <th>9</th>\n",
       "      <td>9</td>\n",
       "      <td>73</td>\n",
       "    </tr>\n",
       "    <tr>\n",
       "      <th>12</th>\n",
       "      <td>12</td>\n",
       "      <td>22</td>\n",
       "    </tr>\n",
       "    <tr>\n",
       "      <th>20</th>\n",
       "      <td>20</td>\n",
       "      <td>16</td>\n",
       "    </tr>\n",
       "    <tr>\n",
       "      <th>11</th>\n",
       "      <td>11</td>\n",
       "      <td>14</td>\n",
       "    </tr>\n",
       "    <tr>\n",
       "      <th>15</th>\n",
       "      <td>15</td>\n",
       "      <td>13</td>\n",
       "    </tr>\n",
       "    <tr>\n",
       "      <th>16</th>\n",
       "      <td>16</td>\n",
       "      <td>13</td>\n",
       "    </tr>\n",
       "    <tr>\n",
       "      <th>14</th>\n",
       "      <td>14</td>\n",
       "      <td>8</td>\n",
       "    </tr>\n",
       "    <tr>\n",
       "      <th>19</th>\n",
       "      <td>19</td>\n",
       "      <td>8</td>\n",
       "    </tr>\n",
       "    <tr>\n",
       "      <th>13</th>\n",
       "      <td>13</td>\n",
       "      <td>7</td>\n",
       "    </tr>\n",
       "    <tr>\n",
       "      <th>22</th>\n",
       "      <td>24</td>\n",
       "      <td>5</td>\n",
       "    </tr>\n",
       "    <tr>\n",
       "      <th>17</th>\n",
       "      <td>17</td>\n",
       "      <td>3</td>\n",
       "    </tr>\n",
       "    <tr>\n",
       "      <th>18</th>\n",
       "      <td>18</td>\n",
       "      <td>2</td>\n",
       "    </tr>\n",
       "    <tr>\n",
       "      <th>21</th>\n",
       "      <td>21</td>\n",
       "      <td>1</td>\n",
       "    </tr>\n",
       "    <tr>\n",
       "      <th>23</th>\n",
       "      <td>35</td>\n",
       "      <td>1</td>\n",
       "    </tr>\n",
       "    <tr>\n",
       "      <th>24</th>\n",
       "      <td>2261</td>\n",
       "      <td>1</td>\n",
       "    </tr>\n",
       "  </tbody>\n",
       "</table>\n",
       "</div>"
      ],
      "text/plain": [
       "    TOTAL UNITS  SALE PRICE\n",
       "1             1       25594\n",
       "0             0       15783\n",
       "2             2        9532\n",
       "3             3        2761\n",
       "4             4         724\n",
       "6             6         375\n",
       "5             5         191\n",
       "8             8         147\n",
       "7             7          83\n",
       "10           10          78\n",
       "9             9          73\n",
       "12           12          22\n",
       "20           20          16\n",
       "11           11          14\n",
       "15           15          13\n",
       "16           16          13\n",
       "14           14           8\n",
       "19           19           8\n",
       "13           13           7\n",
       "22           24           5\n",
       "17           17           3\n",
       "18           18           2\n",
       "21           21           1\n",
       "23           35           1\n",
       "24         2261           1"
      ]
     },
     "execution_count": 29,
     "metadata": {},
     "output_type": "execute_result"
    }
   ],
   "source": [
    "# Total units\n",
    "\n",
    "data[['TOTAL UNITS', 'SALE PRICE']].groupby(['TOTAL UNITS'], as_index=False).count().sort_values(by='SALE PRICE', ascending=False)"
   ]
  },
  {
   "cell_type": "code",
   "execution_count": 30,
   "metadata": {},
   "outputs": [],
   "source": [
    "# Removing rows with Total Units == 0 and one outlier with 2261 units\n",
    "\n",
    "data = data[(data['TOTAL UNITS'] > 0) & (data['TOTAL UNITS'] != 2261)]"
   ]
  },
  {
   "cell_type": "code",
   "execution_count": 31,
   "metadata": {},
   "outputs": [
    {
     "data": {
      "image/png": "[encoded data removed]",
      "text/plain": [
       "<Figure size 720x432 with 1 Axes>"
      ]
     },
     "metadata": {
      "needs_background": "light"
     },
     "output_type": "display_data"
    }
   ],
   "source": [
    "plt.figure(figsize=(10, 6))\n",
    "sns.boxplot(x='TOTAL UNITS', y='SALE PRICE', data=data)\n",
    "plt.title('Total Units vs Sale Price')\n",
    "plt.show()"
   ]
  },
  {
   "cell_type": "code",
   "execution_count": 32,
   "metadata": {},
   "outputs": [
    {
     "data": {
      "image/png": "[encoded data removed]",
      "text/plain": [
       "<Figure size 720x432 with 1 Axes>"
      ]
     },
     "metadata": {
      "needs_background": "light"
     },
     "output_type": "display_data"
    }
   ],
   "source": [
    "plt.figure(figsize=(10, 6))\n",
    "sns.boxplot(x='COMMERCIAL UNITS', y='SALE PRICE', data=data)\n",
    "plt.title('Commercial Units vs Sale Price')\n",
    "plt.show()"
   ]
  },
  {
   "cell_type": "code",
   "execution_count": 33,
   "metadata": {},
   "outputs": [
    {
     "data": {
      "image/png": "[encoded data removed]",
      "text/plain": [
       "<Figure size 720x432 with 1 Axes>"
      ]
     },
     "metadata": {
      "needs_background": "light"
     },
     "output_type": "display_data"
    }
   ],
   "source": [
    "plt.figure(figsize=(10, 6))\n",
    "sns.boxplot(x='RESIDENTIAL UNITS', y='SALE PRICE', data=data)\n",
    "plt.title('Residential Units vs Sale Price')\n",
    "plt.show()"
   ]
  },
  {
   "cell_type": "code",
   "execution_count": 34,
   "metadata": {},
   "outputs": [],
   "source": [
    "# save cleaned data\n",
    "data.to_csv('cleaned.csv',index=False,sep=',') # 保存成CSV文件"
   ]
  },
  {
   "cell_type": "markdown",
   "metadata": {},
   "source": [
    "## Let's visualize Categorical data"
   ]
  },
  {
   "cell_type": "code",
   "execution_count": 35,
   "metadata": {},
   "outputs": [
    {
     "data": {
      "text/html": [
       "<div>\n",
       "<style scoped>\n",
       "    .dataframe tbody tr th:only-of-type {\n",
       "        vertical-align: middle;\n",
       "    }\n",
       "\n",
       "    .dataframe tbody tr th {\n",
       "        vertical-align: top;\n",
       "    }\n",
       "\n",
       "    .dataframe thead th {\n",
       "        text-align: right;\n",
       "    }\n",
       "</style>\n",
       "<table border=\"1\" class=\"dataframe\">\n",
       "  <thead>\n",
       "    <tr style=\"text-align: right;\">\n",
       "      <th></th>\n",
       "      <th>BOROUGH</th>\n",
       "      <th>NEIGHBORHOOD</th>\n",
       "      <th>BUILDING CLASS CATEGORY</th>\n",
       "      <th>TAX CLASS AT PRESENT</th>\n",
       "      <th>BUILDING CLASS AT PRESENT</th>\n",
       "      <th>ADDRESS</th>\n",
       "      <th>APARTMENT NUMBER</th>\n",
       "      <th>TAX CLASS AT TIME OF SALE</th>\n",
       "      <th>BUILDING CLASS AT TIME OF SALE</th>\n",
       "    </tr>\n",
       "  </thead>\n",
       "  <tbody>\n",
       "    <tr>\n",
       "      <th>count</th>\n",
       "      <td>39671</td>\n",
       "      <td>39671</td>\n",
       "      <td>39671</td>\n",
       "      <td>39671</td>\n",
       "      <td>39671</td>\n",
       "      <td>39671</td>\n",
       "      <td>39671</td>\n",
       "      <td>39671</td>\n",
       "      <td>39671</td>\n",
       "    </tr>\n",
       "    <tr>\n",
       "      <th>unique</th>\n",
       "      <td>5</td>\n",
       "      <td>247</td>\n",
       "      <td>37</td>\n",
       "      <td>9</td>\n",
       "      <td>107</td>\n",
       "      <td>30997</td>\n",
       "      <td>2876</td>\n",
       "      <td>3</td>\n",
       "      <td>108</td>\n",
       "    </tr>\n",
       "    <tr>\n",
       "      <th>top</th>\n",
       "      <td>4</td>\n",
       "      <td>FLUSHING-NORTH</td>\n",
       "      <td>01 ONE FAMILY DWELLINGS</td>\n",
       "      <td>1</td>\n",
       "      <td>R4</td>\n",
       "      <td>131-05 40TH   ROAD</td>\n",
       "      <td></td>\n",
       "      <td>1</td>\n",
       "      <td>R4</td>\n",
       "    </tr>\n",
       "    <tr>\n",
       "      <th>freq</th>\n",
       "      <td>12626</td>\n",
       "      <td>1680</td>\n",
       "      <td>12283</td>\n",
       "      <td>24112</td>\n",
       "      <td>9714</td>\n",
       "      <td>209</td>\n",
       "      <td>26801</td>\n",
       "      <td>25343</td>\n",
       "      <td>9718</td>\n",
       "    </tr>\n",
       "  </tbody>\n",
       "</table>\n",
       "</div>"
      ],
      "text/plain": [
       "        BOROUGH    NEIGHBORHOOD                      BUILDING CLASS CATEGORY  \\\n",
       "count     39671           39671                                        39671   \n",
       "unique        5             247                                           37   \n",
       "top           4  FLUSHING-NORTH  01 ONE FAMILY DWELLINGS                       \n",
       "freq      12626            1680                                        12283   \n",
       "\n",
       "       TAX CLASS AT PRESENT BUILDING CLASS AT PRESENT             ADDRESS  \\\n",
       "count                 39671                     39671               39671   \n",
       "unique                    9                       107               30997   \n",
       "top                       1                        R4  131-05 40TH   ROAD   \n",
       "freq                  24112                      9714                 209   \n",
       "\n",
       "       APARTMENT NUMBER  TAX CLASS AT TIME OF SALE  \\\n",
       "count             39671                      39671   \n",
       "unique             2876                          3   \n",
       "top                                              1   \n",
       "freq              26801                      25343   \n",
       "\n",
       "       BUILDING CLASS AT TIME OF SALE  \n",
       "count                           39671  \n",
       "unique                            108  \n",
       "top                                R4  \n",
       "freq                             9718  "
      ]
     },
     "execution_count": 35,
     "metadata": {},
     "output_type": "execute_result"
    }
   ],
   "source": [
    "cat_data = data.select_dtypes(exclude=[np.number])\n",
    "cat_data.describe()"
   ]
  },
  {
   "cell_type": "code",
   "execution_count": 36,
   "metadata": {},
   "outputs": [
    {
     "data": {
      "text/plain": [
       "[2A, 2B, 2, 2C, 4, 1, 1C, 1A, 1B]\n",
       "Categories (9, object): [2A, 2B, 2, 2C, ..., 1, 1C, 1A, 1B]"
      ]
     },
     "execution_count": 36,
     "metadata": {},
     "output_type": "execute_result"
    }
   ],
   "source": [
    "\n",
    "# Tax Class at present\n",
    "\n",
    "data['TAX CLASS AT PRESENT'].unique()"
   ]
  },
  {
   "cell_type": "code",
   "execution_count": 37,
   "metadata": {},
   "outputs": [
    {
     "data": {
      "text/html": [
       "<div>\n",
       "<style scoped>\n",
       "    .dataframe tbody tr th:only-of-type {\n",
       "        vertical-align: middle;\n",
       "    }\n",
       "\n",
       "    .dataframe tbody tr th {\n",
       "        vertical-align: top;\n",
       "    }\n",
       "\n",
       "    .dataframe thead th {\n",
       "        text-align: right;\n",
       "    }\n",
       "</style>\n",
       "<table border=\"1\" class=\"dataframe\">\n",
       "  <thead>\n",
       "    <tr style=\"text-align: right;\">\n",
       "      <th></th>\n",
       "      <th>SALE PRICE</th>\n",
       "    </tr>\n",
       "    <tr>\n",
       "      <th>TAX CLASS AT PRESENT</th>\n",
       "      <th></th>\n",
       "    </tr>\n",
       "  </thead>\n",
       "  <tbody>\n",
       "    <tr>\n",
       "      <th>1</th>\n",
       "      <td>598427.0</td>\n",
       "    </tr>\n",
       "    <tr>\n",
       "      <th>1A</th>\n",
       "      <td>390090.0</td>\n",
       "    </tr>\n",
       "    <tr>\n",
       "      <th>1B</th>\n",
       "      <td>640606.5</td>\n",
       "    </tr>\n",
       "    <tr>\n",
       "      <th>1C</th>\n",
       "      <td>970639.5</td>\n",
       "    </tr>\n",
       "    <tr>\n",
       "      <th>2</th>\n",
       "      <td>1056638.0</td>\n",
       "    </tr>\n",
       "    <tr>\n",
       "      <th>2A</th>\n",
       "      <td>1210000.0</td>\n",
       "    </tr>\n",
       "    <tr>\n",
       "      <th>2B</th>\n",
       "      <td>2288000.0</td>\n",
       "    </tr>\n",
       "    <tr>\n",
       "      <th>2C</th>\n",
       "      <td>870000.0</td>\n",
       "    </tr>\n",
       "    <tr>\n",
       "      <th>4</th>\n",
       "      <td>1300000.0</td>\n",
       "    </tr>\n",
       "  </tbody>\n",
       "</table>\n",
       "</div>"
      ],
      "text/plain": [
       "                      SALE PRICE\n",
       "TAX CLASS AT PRESENT            \n",
       "1                       598427.0\n",
       "1A                      390090.0\n",
       "1B                      640606.5\n",
       "1C                      970639.5\n",
       "2                      1056638.0\n",
       "2A                     1210000.0\n",
       "2B                     2288000.0\n",
       "2C                      870000.0\n",
       "4                      1300000.0"
      ]
     },
     "execution_count": 37,
     "metadata": {},
     "output_type": "execute_result"
    }
   ],
   "source": [
    "\n",
    "pivot = data.pivot_table(index='TAX CLASS AT PRESENT', values='SALE PRICE', aggfunc=np.median)\n",
    "\n",
    "pivot"
   ]
  },
  {
   "cell_type": "code",
   "execution_count": 38,
   "metadata": {},
   "outputs": [
    {
     "data": {
      "text/plain": [
       "<matplotlib.axes._subplots.AxesSubplot at 0x1e679e6f4a8>"
      ]
     },
     "execution_count": 38,
     "metadata": {},
     "output_type": "execute_result"
    },
    {
     "data": {
      "image/png": "[encoded data removed]",
      "text/plain": [
       "<Figure size 432x288 with 1 Axes>"
      ]
     },
     "metadata": {
      "needs_background": "light"
     },
     "output_type": "display_data"
    }
   ],
   "source": [
    "pivot.plot(kind='bar', color='black')"
   ]
  },
  {
   "cell_type": "code",
   "execution_count": 39,
   "metadata": {},
   "outputs": [
    {
     "data": {
      "text/plain": [
       "[2, 4, 1]\n",
       "Categories (3, int64): [2, 4, 1]"
      ]
     },
     "execution_count": 39,
     "metadata": {},
     "output_type": "execute_result"
    }
   ],
   "source": [
    "# Tax class at time of sale\n",
    "\n",
    "data['TAX CLASS AT TIME OF SALE'].unique()"
   ]
  },
  {
   "cell_type": "code",
   "execution_count": 40,
   "metadata": {},
   "outputs": [
    {
     "data": {
      "text/html": [
       "<div>\n",
       "<style scoped>\n",
       "    .dataframe tbody tr th:only-of-type {\n",
       "        vertical-align: middle;\n",
       "    }\n",
       "\n",
       "    .dataframe tbody tr th {\n",
       "        vertical-align: top;\n",
       "    }\n",
       "\n",
       "    .dataframe thead th {\n",
       "        text-align: right;\n",
       "    }\n",
       "</style>\n",
       "<table border=\"1\" class=\"dataframe\">\n",
       "  <thead>\n",
       "    <tr style=\"text-align: right;\">\n",
       "      <th></th>\n",
       "      <th>SALE PRICE</th>\n",
       "    </tr>\n",
       "    <tr>\n",
       "      <th>TAX CLASS AT TIME OF SALE</th>\n",
       "      <th></th>\n",
       "    </tr>\n",
       "  </thead>\n",
       "  <tbody>\n",
       "    <tr>\n",
       "      <th>1</th>\n",
       "      <td>585000.0</td>\n",
       "    </tr>\n",
       "    <tr>\n",
       "      <th>2</th>\n",
       "      <td>1077141.5</td>\n",
       "    </tr>\n",
       "    <tr>\n",
       "      <th>4</th>\n",
       "      <td>1300000.0</td>\n",
       "    </tr>\n",
       "  </tbody>\n",
       "</table>\n",
       "</div>"
      ],
      "text/plain": [
       "                           SALE PRICE\n",
       "TAX CLASS AT TIME OF SALE            \n",
       "1                            585000.0\n",
       "2                           1077141.5\n",
       "4                           1300000.0"
      ]
     },
     "execution_count": 40,
     "metadata": {},
     "output_type": "execute_result"
    }
   ],
   "source": [
    "pivot = data.pivot_table(index='TAX CLASS AT TIME OF SALE', values='SALE PRICE', aggfunc=np.median)\n",
    "pivot"
   ]
  },
  {
   "cell_type": "code",
   "execution_count": 41,
   "metadata": {},
   "outputs": [
    {
     "data": {
      "text/plain": [
       "<matplotlib.axes._subplots.AxesSubplot at 0x1e679f05e10>"
      ]
     },
     "execution_count": 41,
     "metadata": {},
     "output_type": "execute_result"
    },
    {
     "data": {
      "image/png": "[encoded data removed]",
      "text/plain": [
       "<Figure size 432x288 with 1 Axes>"
      ]
     },
     "metadata": {
      "needs_background": "light"
     },
     "output_type": "display_data"
    }
   ],
   "source": [
    "pivot.plot(kind='bar', color='blue')"
   ]
  },
  {
   "cell_type": "code",
   "execution_count": 42,
   "metadata": {},
   "outputs": [
    {
     "data": {
      "text/plain": [
       "[1, 2, 3, 4, 5]\n",
       "Categories (5, int64): [1, 2, 3, 4, 5]"
      ]
     },
     "execution_count": 42,
     "metadata": {},
     "output_type": "execute_result"
    }
   ],
   "source": [
    "# Borough\n",
    "\n",
    "data['BOROUGH'].unique()"
   ]
  },
  {
   "cell_type": "code",
   "execution_count": 43,
   "metadata": {},
   "outputs": [
    {
     "data": {
      "text/html": [
       "<div>\n",
       "<style scoped>\n",
       "    .dataframe tbody tr th:only-of-type {\n",
       "        vertical-align: middle;\n",
       "    }\n",
       "\n",
       "    .dataframe tbody tr th {\n",
       "        vertical-align: top;\n",
       "    }\n",
       "\n",
       "    .dataframe thead th {\n",
       "        text-align: right;\n",
       "    }\n",
       "</style>\n",
       "<table border=\"1\" class=\"dataframe\">\n",
       "  <thead>\n",
       "    <tr style=\"text-align: right;\">\n",
       "      <th></th>\n",
       "      <th>SALE PRICE</th>\n",
       "    </tr>\n",
       "    <tr>\n",
       "      <th>BOROUGH</th>\n",
       "      <th></th>\n",
       "    </tr>\n",
       "  </thead>\n",
       "  <tbody>\n",
       "    <tr>\n",
       "      <th>1</th>\n",
       "      <td>1751390.0</td>\n",
       "    </tr>\n",
       "    <tr>\n",
       "      <th>2</th>\n",
       "      <td>454000.0</td>\n",
       "    </tr>\n",
       "    <tr>\n",
       "      <th>3</th>\n",
       "      <td>867923.5</td>\n",
       "    </tr>\n",
       "    <tr>\n",
       "      <th>4</th>\n",
       "      <td>637000.0</td>\n",
       "    </tr>\n",
       "    <tr>\n",
       "      <th>5</th>\n",
       "      <td>470000.0</td>\n",
       "    </tr>\n",
       "  </tbody>\n",
       "</table>\n",
       "</div>"
      ],
      "text/plain": [
       "         SALE PRICE\n",
       "BOROUGH            \n",
       "1         1751390.0\n",
       "2          454000.0\n",
       "3          867923.5\n",
       "4          637000.0\n",
       "5          470000.0"
      ]
     },
     "execution_count": 43,
     "metadata": {},
     "output_type": "execute_result"
    }
   ],
   "source": [
    "pivot = data.pivot_table(index='BOROUGH', values='SALE PRICE', aggfunc=np.median)\n",
    "pivot"
   ]
  },
  {
   "cell_type": "code",
   "execution_count": 44,
   "metadata": {},
   "outputs": [
    {
     "data": {
      "text/plain": [
       "<matplotlib.axes._subplots.AxesSubplot at 0x1e679f765c0>"
      ]
     },
     "execution_count": 44,
     "metadata": {},
     "output_type": "execute_result"
    },
    {
     "data": {
      "image/png": "[encoded data removed]",
      "text/plain": [
       "<Figure size 432x288 with 1 Axes>"
      ]
     },
     "metadata": {
      "needs_background": "light"
     },
     "output_type": "display_data"
    }
   ],
   "source": [
    "pivot.plot(kind='bar', color='red')"
   ]
  },
  {
   "cell_type": "code",
   "execution_count": 45,
   "metadata": {},
   "outputs": [
    {
     "name": "stdout",
     "output_type": "stream",
     "text": [
      "37\n"
     ]
    }
   ],
   "source": [
    "\n",
    "# Building class category\n",
    "\n",
    "print(data['BUILDING CLASS CATEGORY'].nunique())"
   ]
  },
  {
   "cell_type": "code",
   "execution_count": 46,
   "metadata": {},
   "outputs": [
    {
     "data": {
      "text/html": [
       "<div>\n",
       "<style scoped>\n",
       "    .dataframe tbody tr th:only-of-type {\n",
       "        vertical-align: middle;\n",
       "    }\n",
       "\n",
       "    .dataframe tbody tr th {\n",
       "        vertical-align: top;\n",
       "    }\n",
       "\n",
       "    .dataframe thead th {\n",
       "        text-align: right;\n",
       "    }\n",
       "</style>\n",
       "<table border=\"1\" class=\"dataframe\">\n",
       "  <thead>\n",
       "    <tr style=\"text-align: right;\">\n",
       "      <th></th>\n",
       "      <th>SALE PRICE</th>\n",
       "    </tr>\n",
       "    <tr>\n",
       "      <th>BUILDING CLASS CATEGORY</th>\n",
       "      <th></th>\n",
       "    </tr>\n",
       "  </thead>\n",
       "  <tbody>\n",
       "    <tr>\n",
       "      <th>01 ONE FAMILY DWELLINGS</th>\n",
       "      <td>510000.0</td>\n",
       "    </tr>\n",
       "    <tr>\n",
       "      <th>02 TWO FAMILY DWELLINGS</th>\n",
       "      <td>665000.0</td>\n",
       "    </tr>\n",
       "    <tr>\n",
       "      <th>03 THREE FAMILY DWELLINGS</th>\n",
       "      <td>835000.0</td>\n",
       "    </tr>\n",
       "    <tr>\n",
       "      <th>04 TAX CLASS 1 CONDOS</th>\n",
       "      <td>420810.0</td>\n",
       "    </tr>\n",
       "    <tr>\n",
       "      <th>05 TAX CLASS 1 VACANT LAND</th>\n",
       "      <td>720000.0</td>\n",
       "    </tr>\n",
       "    <tr>\n",
       "      <th>06 TAX CLASS 1 - OTHER</th>\n",
       "      <td>500000.0</td>\n",
       "    </tr>\n",
       "    <tr>\n",
       "      <th>07 RENTALS - WALKUP APARTMENTS</th>\n",
       "      <td>1362500.0</td>\n",
       "    </tr>\n",
       "    <tr>\n",
       "      <th>08 RENTALS - ELEVATOR APARTMENTS</th>\n",
       "      <td>7100000.0</td>\n",
       "    </tr>\n",
       "    <tr>\n",
       "      <th>09 COOPS - WALKUP APARTMENTS</th>\n",
       "      <td>6600000.0</td>\n",
       "    </tr>\n",
       "    <tr>\n",
       "      <th>11A CONDO-RENTALS</th>\n",
       "      <td>999000.0</td>\n",
       "    </tr>\n",
       "    <tr>\n",
       "      <th>12 CONDOS - WALKUP APARTMENTS</th>\n",
       "      <td>529000.0</td>\n",
       "    </tr>\n",
       "    <tr>\n",
       "      <th>13 CONDOS - ELEVATOR APARTMENTS</th>\n",
       "      <td>1100000.0</td>\n",
       "    </tr>\n",
       "    <tr>\n",
       "      <th>14 RENTALS - 4-10 UNIT</th>\n",
       "      <td>1515000.0</td>\n",
       "    </tr>\n",
       "    <tr>\n",
       "      <th>15 CONDOS - 2-10 UNIT RESIDENTIAL</th>\n",
       "      <td>855000.0</td>\n",
       "    </tr>\n",
       "    <tr>\n",
       "      <th>16 CONDOS - 2-10 UNIT WITH COMMERCIAL UNIT</th>\n",
       "      <td>2500000.0</td>\n",
       "    </tr>\n",
       "    <tr>\n",
       "      <th>21 OFFICE BUILDINGS</th>\n",
       "      <td>1100000.0</td>\n",
       "    </tr>\n",
       "    <tr>\n",
       "      <th>22 STORE BUILDINGS</th>\n",
       "      <td>1400000.0</td>\n",
       "    </tr>\n",
       "    <tr>\n",
       "      <th>23 LOFT BUILDINGS</th>\n",
       "      <td>4650000.0</td>\n",
       "    </tr>\n",
       "    <tr>\n",
       "      <th>26 OTHER HOTELS</th>\n",
       "      <td>1400000.0</td>\n",
       "    </tr>\n",
       "    <tr>\n",
       "      <th>27 FACTORIES</th>\n",
       "      <td>1445000.0</td>\n",
       "    </tr>\n",
       "    <tr>\n",
       "      <th>28 COMMERCIAL CONDOS</th>\n",
       "      <td>1581433.0</td>\n",
       "    </tr>\n",
       "    <tr>\n",
       "      <th>29 COMMERCIAL GARAGES</th>\n",
       "      <td>1000000.0</td>\n",
       "    </tr>\n",
       "    <tr>\n",
       "      <th>30 WAREHOUSES</th>\n",
       "      <td>1700000.0</td>\n",
       "    </tr>\n",
       "    <tr>\n",
       "      <th>31 COMMERCIAL VACANT LAND</th>\n",
       "      <td>2255000.0</td>\n",
       "    </tr>\n",
       "    <tr>\n",
       "      <th>32 HOSPITAL AND HEALTH FACILITIES</th>\n",
       "      <td>1957500.0</td>\n",
       "    </tr>\n",
       "    <tr>\n",
       "      <th>33 EDUCATIONAL FACILITIES</th>\n",
       "      <td>825000.0</td>\n",
       "    </tr>\n",
       "    <tr>\n",
       "      <th>35 INDOOR PUBLIC AND CULTURAL FACILITIES</th>\n",
       "      <td>620000.0</td>\n",
       "    </tr>\n",
       "    <tr>\n",
       "      <th>37 RELIGIOUS FACILITIES</th>\n",
       "      <td>940000.0</td>\n",
       "    </tr>\n",
       "    <tr>\n",
       "      <th>38 ASYLUMS AND HOMES</th>\n",
       "      <td>3400000.0</td>\n",
       "    </tr>\n",
       "    <tr>\n",
       "      <th>41 TAX CLASS 4 - OTHER</th>\n",
       "      <td>950000.0</td>\n",
       "    </tr>\n",
       "    <tr>\n",
       "      <th>42 CONDO CULTURAL/MEDICAL/EDUCATIONAL/ETC</th>\n",
       "      <td>2640000.0</td>\n",
       "    </tr>\n",
       "    <tr>\n",
       "      <th>43 CONDO OFFICE BUILDINGS</th>\n",
       "      <td>1603069.0</td>\n",
       "    </tr>\n",
       "    <tr>\n",
       "      <th>44 CONDO PARKING</th>\n",
       "      <td>165000.0</td>\n",
       "    </tr>\n",
       "    <tr>\n",
       "      <th>45 CONDO HOTELS</th>\n",
       "      <td>306735.0</td>\n",
       "    </tr>\n",
       "    <tr>\n",
       "      <th>46 CONDO STORE BUILDINGS</th>\n",
       "      <td>3500000.0</td>\n",
       "    </tr>\n",
       "    <tr>\n",
       "      <th>47 CONDO NON-BUSINESS STORAGE</th>\n",
       "      <td>265488.0</td>\n",
       "    </tr>\n",
       "    <tr>\n",
       "      <th>48 CONDO TERRACES/GARDENS/CABANAS</th>\n",
       "      <td>717500.0</td>\n",
       "    </tr>\n",
       "  </tbody>\n",
       "</table>\n",
       "</div>"
      ],
      "text/plain": [
       "                                              SALE PRICE\n",
       "BUILDING CLASS CATEGORY                                 \n",
       "01 ONE FAMILY DWELLINGS                         510000.0\n",
       "02 TWO FAMILY DWELLINGS                         665000.0\n",
       "03 THREE FAMILY DWELLINGS                       835000.0\n",
       "04 TAX CLASS 1 CONDOS                           420810.0\n",
       "05 TAX CLASS 1 VACANT LAND                      720000.0\n",
       "06 TAX CLASS 1 - OTHER                          500000.0\n",
       "07 RENTALS - WALKUP APARTMENTS                 1362500.0\n",
       "08 RENTALS - ELEVATOR APARTMENTS               7100000.0\n",
       "09 COOPS - WALKUP APARTMENTS                   6600000.0\n",
       "11A CONDO-RENTALS                               999000.0\n",
       "12 CONDOS - WALKUP APARTMENTS                   529000.0\n",
       "13 CONDOS - ELEVATOR APARTMENTS                1100000.0\n",
       "14 RENTALS - 4-10 UNIT                         1515000.0\n",
       "15 CONDOS - 2-10 UNIT RESIDENTIAL               855000.0\n",
       "16 CONDOS - 2-10 UNIT WITH COMMERCIAL UNIT     2500000.0\n",
       "21 OFFICE BUILDINGS                            1100000.0\n",
       "22 STORE BUILDINGS                             1400000.0\n",
       "23 LOFT BUILDINGS                              4650000.0\n",
       "26 OTHER HOTELS                                1400000.0\n",
       "27 FACTORIES                                   1445000.0\n",
       "28 COMMERCIAL CONDOS                           1581433.0\n",
       "29 COMMERCIAL GARAGES                          1000000.0\n",
       "30 WAREHOUSES                                  1700000.0\n",
       "31 COMMERCIAL VACANT LAND                      2255000.0\n",
       "32 HOSPITAL AND HEALTH FACILITIES              1957500.0\n",
       "33 EDUCATIONAL FACILITIES                       825000.0\n",
       "35 INDOOR PUBLIC AND CULTURAL FACILITIES        620000.0\n",
       "37 RELIGIOUS FACILITIES                         940000.0\n",
       "38 ASYLUMS AND HOMES                           3400000.0\n",
       "41 TAX CLASS 4 - OTHER                          950000.0\n",
       "42 CONDO CULTURAL/MEDICAL/EDUCATIONAL/ETC      2640000.0\n",
       "43 CONDO OFFICE BUILDINGS                      1603069.0\n",
       "44 CONDO PARKING                                165000.0\n",
       "45 CONDO HOTELS                                 306735.0\n",
       "46 CONDO STORE BUILDINGS                       3500000.0\n",
       "47 CONDO NON-BUSINESS STORAGE                   265488.0\n",
       "48 CONDO TERRACES/GARDENS/CABANAS               717500.0"
      ]
     },
     "execution_count": 46,
     "metadata": {},
     "output_type": "execute_result"
    }
   ],
   "source": [
    "pivot = data.pivot_table(index='BUILDING CLASS CATEGORY', values='SALE PRICE', aggfunc=np.median)\n",
    "pivot"
   ]
  },
  {
   "cell_type": "code",
   "execution_count": 47,
   "metadata": {},
   "outputs": [
    {
     "data": {
      "text/plain": [
       "<matplotlib.axes._subplots.AxesSubplot at 0x1e679fd65f8>"
      ]
     },
     "execution_count": 47,
     "metadata": {},
     "output_type": "execute_result"
    },
    {
     "data": {
      "image/png": "[encoded data removed]",
      "text/plain": [
       "<Figure size 432x288 with 1 Axes>"
      ]
     },
     "metadata": {
      "needs_background": "light"
     },
     "output_type": "display_data"
    }
   ],
   "source": [
    "pivot.plot(kind='bar', color='Green')"
   ]
  },
  {
   "cell_type": "markdown",
   "metadata": {},
   "source": [
    "## Data Preprocessing"
   ]
  },
  {
   "cell_type": "code",
   "execution_count": 48,
   "metadata": {},
   "outputs": [
    {
     "name": "stdout",
     "output_type": "stream",
     "text": [
      "<class 'pandas.core.frame.DataFrame'>\n",
      "Int64Index: 39671 entries, 0 to 84545\n",
      "Data columns (total 17 columns):\n",
      "BOROUGH                           39671 non-null category\n",
      "NEIGHBORHOOD                      39671 non-null object\n",
      "BUILDING CLASS CATEGORY           39671 non-null object\n",
      "TAX CLASS AT PRESENT              39671 non-null category\n",
      "BLOCK                             39671 non-null int64\n",
      "LOT                               39671 non-null int64\n",
      "BUILDING CLASS AT PRESENT         39671 non-null object\n",
      "ZIP CODE                          39671 non-null int64\n",
      "RESIDENTIAL UNITS                 39671 non-null int64\n",
      "COMMERCIAL UNITS                  39671 non-null int64\n",
      "TOTAL UNITS                       39671 non-null int64\n",
      "LAND SQUARE FEET                  39671 non-null float64\n",
      "GROSS SQUARE FEET                 39671 non-null float64\n",
      "YEAR BUILT                        39671 non-null int64\n",
      "TAX CLASS AT TIME OF SALE         39671 non-null category\n",
      "BUILDING CLASS AT TIME OF SALE    39671 non-null object\n",
      "SALE PRICE                        39671 non-null float64\n",
      "dtypes: category(3), float64(3), int64(7), object(4)\n",
      "memory usage: 5.9+ MB\n"
     ]
    }
   ],
   "source": [
    "del data['ADDRESS']\n",
    "del data['APARTMENT NUMBER']\n",
    "\n",
    "data.info()"
   ]
  },
  {
   "cell_type": "code",
   "execution_count": 49,
   "metadata": {},
   "outputs": [
    {
     "data": {
      "text/html": [
       "<div>\n",
       "<style scoped>\n",
       "    .dataframe tbody tr th:only-of-type {\n",
       "        vertical-align: middle;\n",
       "    }\n",
       "\n",
       "    .dataframe tbody tr th {\n",
       "        vertical-align: top;\n",
       "    }\n",
       "\n",
       "    .dataframe thead th {\n",
       "        text-align: right;\n",
       "    }\n",
       "</style>\n",
       "<table border=\"1\" class=\"dataframe\">\n",
       "  <thead>\n",
       "    <tr style=\"text-align: right;\">\n",
       "      <th></th>\n",
       "      <th>BLOCK</th>\n",
       "      <th>LOT</th>\n",
       "      <th>ZIP CODE</th>\n",
       "      <th>RESIDENTIAL UNITS</th>\n",
       "      <th>COMMERCIAL UNITS</th>\n",
       "      <th>TOTAL UNITS</th>\n",
       "      <th>LAND SQUARE FEET</th>\n",
       "      <th>GROSS SQUARE FEET</th>\n",
       "      <th>YEAR BUILT</th>\n",
       "      <th>SALE PRICE</th>\n",
       "    </tr>\n",
       "  </thead>\n",
       "  <tbody>\n",
       "    <tr>\n",
       "      <th>count</th>\n",
       "      <td>39671.000000</td>\n",
       "      <td>39671.00000</td>\n",
       "      <td>39671.000000</td>\n",
       "      <td>39671.000000</td>\n",
       "      <td>39671.000000</td>\n",
       "      <td>39671.000000</td>\n",
       "      <td>39671.000000</td>\n",
       "      <td>39671.000000</td>\n",
       "      <td>39671.000000</td>\n",
       "      <td>3.967100e+04</td>\n",
       "    </tr>\n",
       "    <tr>\n",
       "      <th>mean</th>\n",
       "      <td>4565.444884</td>\n",
       "      <td>484.79635</td>\n",
       "      <td>10879.364347</td>\n",
       "      <td>1.536488</td>\n",
       "      <td>0.066522</td>\n",
       "      <td>1.613143</td>\n",
       "      <td>2806.488050</td>\n",
       "      <td>2299.142023</td>\n",
       "      <td>1828.428071</td>\n",
       "      <td>1.256370e+06</td>\n",
       "    </tr>\n",
       "    <tr>\n",
       "      <th>std</th>\n",
       "      <td>3736.464731</td>\n",
       "      <td>721.15101</td>\n",
       "      <td>631.206155</td>\n",
       "      <td>1.293163</td>\n",
       "      <td>0.371042</td>\n",
       "      <td>1.343461</td>\n",
       "      <td>1542.853255</td>\n",
       "      <td>1468.259039</td>\n",
       "      <td>479.239107</td>\n",
       "      <td>2.939398e+06</td>\n",
       "    </tr>\n",
       "    <tr>\n",
       "      <th>min</th>\n",
       "      <td>1.000000</td>\n",
       "      <td>1.00000</td>\n",
       "      <td>0.000000</td>\n",
       "      <td>0.000000</td>\n",
       "      <td>0.000000</td>\n",
       "      <td>1.000000</td>\n",
       "      <td>0.000000</td>\n",
       "      <td>0.000000</td>\n",
       "      <td>0.000000</td>\n",
       "      <td>1.007000e+05</td>\n",
       "    </tr>\n",
       "    <tr>\n",
       "      <th>25%</th>\n",
       "      <td>1407.000000</td>\n",
       "      <td>28.00000</td>\n",
       "      <td>10310.000000</td>\n",
       "      <td>1.000000</td>\n",
       "      <td>0.000000</td>\n",
       "      <td>1.000000</td>\n",
       "      <td>1958.000000</td>\n",
       "      <td>1290.000000</td>\n",
       "      <td>1920.000000</td>\n",
       "      <td>4.650000e+05</td>\n",
       "    </tr>\n",
       "    <tr>\n",
       "      <th>50%</th>\n",
       "      <td>3871.000000</td>\n",
       "      <td>64.00000</td>\n",
       "      <td>11212.000000</td>\n",
       "      <td>1.000000</td>\n",
       "      <td>0.000000</td>\n",
       "      <td>1.000000</td>\n",
       "      <td>2635.000000</td>\n",
       "      <td>2016.000000</td>\n",
       "      <td>1940.000000</td>\n",
       "      <td>7.000000e+05</td>\n",
       "    </tr>\n",
       "    <tr>\n",
       "      <th>75%</th>\n",
       "      <td>6681.000000</td>\n",
       "      <td>1042.00000</td>\n",
       "      <td>11358.000000</td>\n",
       "      <td>2.000000</td>\n",
       "      <td>0.000000</td>\n",
       "      <td>2.000000</td>\n",
       "      <td>3858.418040</td>\n",
       "      <td>3891.878472</td>\n",
       "      <td>1987.000000</td>\n",
       "      <td>1.150000e+06</td>\n",
       "    </tr>\n",
       "    <tr>\n",
       "      <th>max</th>\n",
       "      <td>16319.000000</td>\n",
       "      <td>9106.00000</td>\n",
       "      <td>11694.000000</td>\n",
       "      <td>35.000000</td>\n",
       "      <td>14.000000</td>\n",
       "      <td>35.000000</td>\n",
       "      <td>9996.000000</td>\n",
       "      <td>9992.000000</td>\n",
       "      <td>2017.000000</td>\n",
       "      <td>2.175000e+08</td>\n",
       "    </tr>\n",
       "  </tbody>\n",
       "</table>\n",
       "</div>"
      ],
      "text/plain": [
       "              BLOCK          LOT      ZIP CODE  RESIDENTIAL UNITS  \\\n",
       "count  39671.000000  39671.00000  39671.000000       39671.000000   \n",
       "mean    4565.444884    484.79635  10879.364347           1.536488   \n",
       "std     3736.464731    721.15101    631.206155           1.293163   \n",
       "min        1.000000      1.00000      0.000000           0.000000   \n",
       "25%     1407.000000     28.00000  10310.000000           1.000000   \n",
       "50%     3871.000000     64.00000  11212.000000           1.000000   \n",
       "75%     6681.000000   1042.00000  11358.000000           2.000000   \n",
       "max    16319.000000   9106.00000  11694.000000          35.000000   \n",
       "\n",
       "       COMMERCIAL UNITS   TOTAL UNITS  LAND SQUARE FEET  GROSS SQUARE FEET  \\\n",
       "count      39671.000000  39671.000000      39671.000000       39671.000000   \n",
       "mean           0.066522      1.613143       2806.488050        2299.142023   \n",
       "std            0.371042      1.343461       1542.853255        1468.259039   \n",
       "min            0.000000      1.000000          0.000000           0.000000   \n",
       "25%            0.000000      1.000000       1958.000000        1290.000000   \n",
       "50%            0.000000      1.000000       2635.000000        2016.000000   \n",
       "75%            0.000000      2.000000       3858.418040        3891.878472   \n",
       "max           14.000000     35.000000       9996.000000        9992.000000   \n",
       "\n",
       "         YEAR BUILT    SALE PRICE  \n",
       "count  39671.000000  3.967100e+04  \n",
       "mean    1828.428071  1.256370e+06  \n",
       "std      479.239107  2.939398e+06  \n",
       "min        0.000000  1.007000e+05  \n",
       "25%     1920.000000  4.650000e+05  \n",
       "50%     1940.000000  7.000000e+05  \n",
       "75%     1987.000000  1.150000e+06  \n",
       "max     2017.000000  2.175000e+08  "
      ]
     },
     "execution_count": 49,
     "metadata": {},
     "output_type": "execute_result"
    }
   ],
   "source": [
    "numeric_data = data.select_dtypes(include=[np.number])\n",
    "numeric_data.describe()"
   ]
  },
  {
   "cell_type": "code",
   "execution_count": 50,
   "metadata": {},
   "outputs": [
    {
     "data": {
      "text/plain": [
       "Index(['BLOCK', 'LOT', 'ZIP CODE', 'RESIDENTIAL UNITS', 'COMMERCIAL UNITS',\n",
       "       'TOTAL UNITS', 'LAND SQUARE FEET', 'GROSS SQUARE FEET', 'YEAR BUILT',\n",
       "       'SALE PRICE'],\n",
       "      dtype='object')"
      ]
     },
     "execution_count": 50,
     "metadata": {},
     "output_type": "execute_result"
    }
   ],
   "source": [
    "numeric_data.columns"
   ]
  },
  {
   "cell_type": "code",
   "execution_count": 51,
   "metadata": {},
   "outputs": [
    {
     "data": {
      "text/plain": [
       "BLOCK                 0.947675\n",
       "LOT                   2.742813\n",
       "RESIDENTIAL UNITS     6.023239\n",
       "COMMERCIAL UNITS     10.517865\n",
       "TOTAL UNITS           5.937807\n",
       "SALE PRICE           23.309214\n",
       "dtype: float64"
      ]
     },
     "execution_count": 51,
     "metadata": {},
     "output_type": "execute_result"
    }
   ],
   "source": [
    "# Transform the numeric features using log(x+1)\n",
    "\n",
    "from scipy.stats import skew\n",
    "\n",
    "skewed = data[numeric_data.columns].apply(lambda x: skew(x.dropna().astype(float)))\n",
    "skewed = skewed[skewed > 0.75]\n",
    "skewed"
   ]
  },
  {
   "cell_type": "code",
   "execution_count": 52,
   "metadata": {},
   "outputs": [
    {
     "data": {
      "text/plain": [
       "Index(['BLOCK', 'LOT', 'RESIDENTIAL UNITS', 'COMMERCIAL UNITS', 'TOTAL UNITS',\n",
       "       'SALE PRICE'],\n",
       "      dtype='object')"
      ]
     },
     "execution_count": 52,
     "metadata": {},
     "output_type": "execute_result"
    }
   ],
   "source": [
    "skewed.index"
   ]
  },
  {
   "cell_type": "code",
   "execution_count": 53,
   "metadata": {},
   "outputs": [],
   "source": [
    "skewed = skewed.index"
   ]
  },
  {
   "cell_type": "code",
   "execution_count": 54,
   "metadata": {},
   "outputs": [],
   "source": [
    "\n",
    "data[skewed] = np.log1p(data[skewed])"
   ]
  },
  {
   "cell_type": "code",
   "execution_count": 55,
   "metadata": {},
   "outputs": [],
   "source": [
    "scaler = StandardScaler()\n",
    "scaler.fit(data[numeric_data.columns])\n",
    "scaled = scaler.transform(data[numeric_data.columns])"
   ]
  },
  {
   "cell_type": "code",
   "execution_count": 56,
   "metadata": {},
   "outputs": [],
   "source": [
    "for i, col in enumerate(numeric_data.columns):\n",
    "  data[col] = scaled[:, i]"
   ]
  },
  {
   "cell_type": "code",
   "execution_count": 57,
   "metadata": {},
   "outputs": [
    {
     "data": {
      "text/html": [
       "<div>\n",
       "<style scoped>\n",
       "    .dataframe tbody tr th:only-of-type {\n",
       "        vertical-align: middle;\n",
       "    }\n",
       "\n",
       "    .dataframe tbody tr th {\n",
       "        vertical-align: top;\n",
       "    }\n",
       "\n",
       "    .dataframe thead th {\n",
       "        text-align: right;\n",
       "    }\n",
       "</style>\n",
       "<table border=\"1\" class=\"dataframe\">\n",
       "  <thead>\n",
       "    <tr style=\"text-align: right;\">\n",
       "      <th></th>\n",
       "      <th>BOROUGH</th>\n",
       "      <th>NEIGHBORHOOD</th>\n",
       "      <th>BUILDING CLASS CATEGORY</th>\n",
       "      <th>TAX CLASS AT PRESENT</th>\n",
       "      <th>BLOCK</th>\n",
       "      <th>LOT</th>\n",
       "      <th>BUILDING CLASS AT PRESENT</th>\n",
       "      <th>ZIP CODE</th>\n",
       "      <th>RESIDENTIAL UNITS</th>\n",
       "      <th>COMMERCIAL UNITS</th>\n",
       "      <th>TOTAL UNITS</th>\n",
       "      <th>LAND SQUARE FEET</th>\n",
       "      <th>GROSS SQUARE FEET</th>\n",
       "      <th>YEAR BUILT</th>\n",
       "      <th>TAX CLASS AT TIME OF SALE</th>\n",
       "      <th>BUILDING CLASS AT TIME OF SALE</th>\n",
       "      <th>SALE PRICE</th>\n",
       "    </tr>\n",
       "  </thead>\n",
       "  <tbody>\n",
       "    <tr>\n",
       "      <th>0</th>\n",
       "      <td>1</td>\n",
       "      <td>ALPHABET CITY</td>\n",
       "      <td>07 RENTALS - WALKUP APARTMENTS</td>\n",
       "      <td>2A</td>\n",
       "      <td>-1.501328</td>\n",
       "      <td>-1.497095</td>\n",
       "      <td>C2</td>\n",
       "      <td>-1.378908</td>\n",
       "      <td>2.729104</td>\n",
       "      <td>-0.211833</td>\n",
       "      <td>2.782329</td>\n",
       "      <td>-0.760606</td>\n",
       "      <td>2.820286</td>\n",
       "      <td>0.149347</td>\n",
       "      <td>2</td>\n",
       "      <td>C2</td>\n",
       "      <td>2.609336</td>\n",
       "    </tr>\n",
       "    <tr>\n",
       "      <th>3</th>\n",
       "      <td>1</td>\n",
       "      <td>ALPHABET CITY</td>\n",
       "      <td>07 RENTALS - WALKUP APARTMENTS</td>\n",
       "      <td>2B</td>\n",
       "      <td>-1.481840</td>\n",
       "      <td>-0.887779</td>\n",
       "      <td>C4</td>\n",
       "      <td>-1.378908</td>\n",
       "      <td>4.505444</td>\n",
       "      <td>-0.211833</td>\n",
       "      <td>4.659605</td>\n",
       "      <td>-0.346433</td>\n",
       "      <td>3.061391</td>\n",
       "      <td>0.176473</td>\n",
       "      <td>2</td>\n",
       "      <td>C4</td>\n",
       "      <td>1.975275</td>\n",
       "    </tr>\n",
       "    <tr>\n",
       "      <th>4</th>\n",
       "      <td>1</td>\n",
       "      <td>ALPHABET CITY</td>\n",
       "      <td>07 RENTALS - WALKUP APARTMENTS</td>\n",
       "      <td>2A</td>\n",
       "      <td>-1.478000</td>\n",
       "      <td>-0.390641</td>\n",
       "      <td>C2</td>\n",
       "      <td>-1.378908</td>\n",
       "      <td>3.180858</td>\n",
       "      <td>-0.211833</td>\n",
       "      <td>3.259752</td>\n",
       "      <td>-0.283561</td>\n",
       "      <td>1.577301</td>\n",
       "      <td>0.149347</td>\n",
       "      <td>2</td>\n",
       "      <td>C2</td>\n",
       "      <td>2.839022</td>\n",
       "    </tr>\n",
       "    <tr>\n",
       "      <th>6</th>\n",
       "      <td>1</td>\n",
       "      <td>ALPHABET CITY</td>\n",
       "      <td>07 RENTALS - WALKUP APARTMENTS</td>\n",
       "      <td>2B</td>\n",
       "      <td>-1.474180</td>\n",
       "      <td>-0.672035</td>\n",
       "      <td>C4</td>\n",
       "      <td>-1.378908</td>\n",
       "      <td>3.917359</td>\n",
       "      <td>-0.211833</td>\n",
       "      <td>4.038103</td>\n",
       "      <td>-0.684771</td>\n",
       "      <td>1.312359</td>\n",
       "      <td>0.191080</td>\n",
       "      <td>2</td>\n",
       "      <td>C4</td>\n",
       "      <td>1.720339</td>\n",
       "    </tr>\n",
       "    <tr>\n",
       "      <th>76</th>\n",
       "      <td>1</td>\n",
       "      <td>ALPHABET CITY</td>\n",
       "      <td>12 CONDOS - WALKUP APARTMENTS</td>\n",
       "      <td>2</td>\n",
       "      <td>-1.513261</td>\n",
       "      <td>1.144657</td>\n",
       "      <td>R2</td>\n",
       "      <td>-1.378908</td>\n",
       "      <td>-0.490487</td>\n",
       "      <td>-0.211833</td>\n",
       "      <td>-0.620207</td>\n",
       "      <td>0.681817</td>\n",
       "      <td>1.084793</td>\n",
       "      <td>-3.815321</td>\n",
       "      <td>2</td>\n",
       "      <td>R2</td>\n",
       "      <td>-0.275740</td>\n",
       "    </tr>\n",
       "  </tbody>\n",
       "</table>\n",
       "</div>"
      ],
      "text/plain": [
       "   BOROUGH   NEIGHBORHOOD                      BUILDING CLASS CATEGORY  \\\n",
       "0        1  ALPHABET CITY  07 RENTALS - WALKUP APARTMENTS                \n",
       "3        1  ALPHABET CITY  07 RENTALS - WALKUP APARTMENTS                \n",
       "4        1  ALPHABET CITY  07 RENTALS - WALKUP APARTMENTS                \n",
       "6        1  ALPHABET CITY  07 RENTALS - WALKUP APARTMENTS                \n",
       "76       1  ALPHABET CITY  12 CONDOS - WALKUP APARTMENTS                 \n",
       "\n",
       "   TAX CLASS AT PRESENT     BLOCK       LOT BUILDING CLASS AT PRESENT  \\\n",
       "0                    2A -1.501328 -1.497095                        C2   \n",
       "3                    2B -1.481840 -0.887779                        C4   \n",
       "4                    2A -1.478000 -0.390641                        C2   \n",
       "6                    2B -1.474180 -0.672035                        C4   \n",
       "76                    2 -1.513261  1.144657                        R2   \n",
       "\n",
       "    ZIP CODE  RESIDENTIAL UNITS  COMMERCIAL UNITS  TOTAL UNITS  \\\n",
       "0  -1.378908           2.729104         -0.211833     2.782329   \n",
       "3  -1.378908           4.505444         -0.211833     4.659605   \n",
       "4  -1.378908           3.180858         -0.211833     3.259752   \n",
       "6  -1.378908           3.917359         -0.211833     4.038103   \n",
       "76 -1.378908          -0.490487         -0.211833    -0.620207   \n",
       "\n",
       "    LAND SQUARE FEET  GROSS SQUARE FEET  YEAR BUILT TAX CLASS AT TIME OF SALE  \\\n",
       "0          -0.760606           2.820286    0.149347                         2   \n",
       "3          -0.346433           3.061391    0.176473                         2   \n",
       "4          -0.283561           1.577301    0.149347                         2   \n",
       "6          -0.684771           1.312359    0.191080                         2   \n",
       "76          0.681817           1.084793   -3.815321                         2   \n",
       "\n",
       "   BUILDING CLASS AT TIME OF SALE  SALE PRICE  \n",
       "0                              C2    2.609336  \n",
       "3                              C4    1.975275  \n",
       "4                              C2    2.839022  \n",
       "6                              C4    1.720339  \n",
       "76                             R2   -0.275740  "
      ]
     },
     "execution_count": 57,
     "metadata": {},
     "output_type": "execute_result"
    }
   ],
   "source": [
    "data.head()"
   ]
  },
  {
   "cell_type": "code",
   "execution_count": 58,
   "metadata": {},
   "outputs": [],
   "source": [
    "del data['BUILDING CLASS AT PRESENT']\n",
    "del data['BUILDING CLASS AT TIME OF SALE']\n",
    "del data['NEIGHBORHOOD']"
   ]
  },
  {
   "cell_type": "code",
   "execution_count": 59,
   "metadata": {},
   "outputs": [],
   "source": [
    "# One hot encoding categorical columns\n",
    "\n",
    "one_hot_features = ['BOROUGH', 'BUILDING CLASS CATEGORY', 'TAX CLASS AT PRESENT', 'TAX CLASS AT TIME OF SALE']\n",
    "\n",
    "one_hot_encoded = pd.get_dummies(data[one_hot_features])"
   ]
  },
  {
   "cell_type": "code",
   "execution_count": 60,
   "metadata": {},
   "outputs": [
    {
     "name": "stdout",
     "output_type": "stream",
     "text": [
      "<class 'pandas.core.frame.DataFrame'>\n",
      "Int64Index: 39671 entries, 0 to 84545\n",
      "Data columns (total 67 columns):\n",
      "BLOCK                                                                   39671 non-null float64\n",
      "LOT                                                                     39671 non-null float64\n",
      "ZIP CODE                                                                39671 non-null float64\n",
      "RESIDENTIAL UNITS                                                       39671 non-null float64\n",
      "COMMERCIAL UNITS                                                        39671 non-null float64\n",
      "TOTAL UNITS                                                             39671 non-null float64\n",
      "LAND SQUARE FEET                                                        39671 non-null float64\n",
      "GROSS SQUARE FEET                                                       39671 non-null float64\n",
      "YEAR BUILT                                                              39671 non-null float64\n",
      "SALE PRICE                                                              39671 non-null float64\n",
      "BOROUGH_1                                                               39671 non-null uint8\n",
      "BOROUGH_2                                                               39671 non-null uint8\n",
      "BOROUGH_3                                                               39671 non-null uint8\n",
      "BOROUGH_4                                                               39671 non-null uint8\n",
      "BOROUGH_5                                                               39671 non-null uint8\n",
      "BUILDING CLASS CATEGORY_01 ONE FAMILY DWELLINGS                         39671 non-null uint8\n",
      "BUILDING CLASS CATEGORY_02 TWO FAMILY DWELLINGS                         39671 non-null uint8\n",
      "BUILDING CLASS CATEGORY_03 THREE FAMILY DWELLINGS                       39671 non-null uint8\n",
      "BUILDING CLASS CATEGORY_04 TAX CLASS 1 CONDOS                           39671 non-null uint8\n",
      "BUILDING CLASS CATEGORY_05 TAX CLASS 1 VACANT LAND                      39671 non-null uint8\n",
      "BUILDING CLASS CATEGORY_06 TAX CLASS 1 - OTHER                          39671 non-null uint8\n",
      "BUILDING CLASS CATEGORY_07 RENTALS - WALKUP APARTMENTS                  39671 non-null uint8\n",
      "BUILDING CLASS CATEGORY_08 RENTALS - ELEVATOR APARTMENTS                39671 non-null uint8\n",
      "BUILDING CLASS CATEGORY_09 COOPS - WALKUP APARTMENTS                    39671 non-null uint8\n",
      "BUILDING CLASS CATEGORY_11A CONDO-RENTALS                               39671 non-null uint8\n",
      "BUILDING CLASS CATEGORY_12 CONDOS - WALKUP APARTMENTS                   39671 non-null uint8\n",
      "BUILDING CLASS CATEGORY_13 CONDOS - ELEVATOR APARTMENTS                 39671 non-null uint8\n",
      "BUILDING CLASS CATEGORY_14 RENTALS - 4-10 UNIT                          39671 non-null uint8\n",
      "BUILDING CLASS CATEGORY_15 CONDOS - 2-10 UNIT RESIDENTIAL               39671 non-null uint8\n",
      "BUILDING CLASS CATEGORY_16 CONDOS - 2-10 UNIT WITH COMMERCIAL UNIT      39671 non-null uint8\n",
      "BUILDING CLASS CATEGORY_21 OFFICE BUILDINGS                             39671 non-null uint8\n",
      "BUILDING CLASS CATEGORY_22 STORE BUILDINGS                              39671 non-null uint8\n",
      "BUILDING CLASS CATEGORY_23 LOFT BUILDINGS                               39671 non-null uint8\n",
      "BUILDING CLASS CATEGORY_26 OTHER HOTELS                                 39671 non-null uint8\n",
      "BUILDING CLASS CATEGORY_27 FACTORIES                                    39671 non-null uint8\n",
      "BUILDING CLASS CATEGORY_28 COMMERCIAL CONDOS                            39671 non-null uint8\n",
      "BUILDING CLASS CATEGORY_29 COMMERCIAL GARAGES                           39671 non-null uint8\n",
      "BUILDING CLASS CATEGORY_30 WAREHOUSES                                   39671 non-null uint8\n",
      "BUILDING CLASS CATEGORY_31 COMMERCIAL VACANT LAND                       39671 non-null uint8\n",
      "BUILDING CLASS CATEGORY_32 HOSPITAL AND HEALTH FACILITIES               39671 non-null uint8\n",
      "BUILDING CLASS CATEGORY_33 EDUCATIONAL FACILITIES                       39671 non-null uint8\n",
      "BUILDING CLASS CATEGORY_35 INDOOR PUBLIC AND CULTURAL FACILITIES        39671 non-null uint8\n",
      "BUILDING CLASS CATEGORY_37 RELIGIOUS FACILITIES                         39671 non-null uint8\n",
      "BUILDING CLASS CATEGORY_38 ASYLUMS AND HOMES                            39671 non-null uint8\n",
      "BUILDING CLASS CATEGORY_41 TAX CLASS 4 - OTHER                          39671 non-null uint8\n",
      "BUILDING CLASS CATEGORY_42 CONDO CULTURAL/MEDICAL/EDUCATIONAL/ETC       39671 non-null uint8\n",
      "BUILDING CLASS CATEGORY_43 CONDO OFFICE BUILDINGS                       39671 non-null uint8\n",
      "BUILDING CLASS CATEGORY_44 CONDO PARKING                                39671 non-null uint8\n",
      "BUILDING CLASS CATEGORY_45 CONDO HOTELS                                 39671 non-null uint8\n",
      "BUILDING CLASS CATEGORY_46 CONDO STORE BUILDINGS                        39671 non-null uint8\n",
      "BUILDING CLASS CATEGORY_47 CONDO NON-BUSINESS STORAGE                   39671 non-null uint8\n",
      "BUILDING CLASS CATEGORY_48 CONDO TERRACES/GARDENS/CABANAS               39671 non-null uint8\n",
      "TAX CLASS AT PRESENT_                                                   39671 non-null uint8\n",
      "TAX CLASS AT PRESENT_1                                                  39671 non-null uint8\n",
      "TAX CLASS AT PRESENT_1A                                                 39671 non-null uint8\n",
      "TAX CLASS AT PRESENT_1B                                                 39671 non-null uint8\n",
      "TAX CLASS AT PRESENT_1C                                                 39671 non-null uint8\n",
      "TAX CLASS AT PRESENT_2                                                  39671 non-null uint8\n",
      "TAX CLASS AT PRESENT_2A                                                 39671 non-null uint8\n",
      "TAX CLASS AT PRESENT_2B                                                 39671 non-null uint8\n",
      "TAX CLASS AT PRESENT_2C                                                 39671 non-null uint8\n",
      "TAX CLASS AT PRESENT_3                                                  39671 non-null uint8\n",
      "TAX CLASS AT PRESENT_4                                                  39671 non-null uint8\n",
      "TAX CLASS AT TIME OF SALE_1                                             39671 non-null uint8\n",
      "TAX CLASS AT TIME OF SALE_2                                             39671 non-null uint8\n",
      "TAX CLASS AT TIME OF SALE_3                                             39671 non-null uint8\n",
      "TAX CLASS AT TIME OF SALE_4                                             39671 non-null uint8\n",
      "dtypes: float64(10), uint8(57)\n",
      "memory usage: 6.7 MB\n"
     ]
    }
   ],
   "source": [
    "# Replacing categorical columns with the dummies\n",
    "\n",
    "fdf = data.drop(one_hot_features, axis=1)\n",
    "fdf = pd.concat([fdf, one_hot_encoded], axis=1)\n",
    "\n",
    "fdf.info()"
   ]
  },
  {
   "cell_type": "markdown",
   "metadata": {},
   "source": [
    "## Train Test Split"
   ]
  },
  {
   "cell_type": "code",
   "execution_count": 61,
   "metadata": {},
   "outputs": [
    {
     "name": "stdout",
     "output_type": "stream",
     "text": [
      "(39671, 66) (39671,)\n"
     ]
    }
   ],
   "source": [
    "y_fdf = fdf['SALE PRICE']\n",
    "X_fdf = fdf.drop('SALE PRICE', axis=1)\n",
    "\n",
    "print(X_fdf.shape, y_fdf.shape)"
   ]
  },
  {
   "cell_type": "code",
   "execution_count": 62,
   "metadata": {},
   "outputs": [],
   "source": [
    "X_train, X_test, y_train, y_test = train_test_split(X_fdf, y_fdf, test_size=0.3, random_state=34)"
   ]
  },
  {
   "cell_type": "code",
   "execution_count": 63,
   "metadata": {},
   "outputs": [
    {
     "name": "stdout",
     "output_type": "stream",
     "text": [
      "X_train:  (27769, 66)\n",
      "Y_train:  (27769,)\n",
      "X_test:  (11902, 66)\n",
      "Y_test:  (11902,)\n"
     ]
    }
   ],
   "source": [
    "\n",
    "print('X_train: ', X_train.shape)\n",
    "print('Y_train: ', y_train.shape)\n",
    "\n",
    "print('X_test: ', X_test.shape)\n",
    "print('Y_test: ', y_test.shape)"
   ]
  },
  {
   "cell_type": "code",
   "execution_count": 64,
   "metadata": {},
   "outputs": [],
   "source": [
    "# Defining the Error function first - THE LOWER THE BETTER.\n",
    "def rmse(y_test, y_pred):\n",
    "  return np.sqrt(mean_squared_error(y_test, y_pred))"
   ]
  },
  {
   "cell_type": "code",
   "execution_count": 65,
   "metadata": {},
   "outputs": [
    {
     "data": {
      "text/plain": [
       "0.7106801723155793"
      ]
     },
     "execution_count": 65,
     "metadata": {},
     "output_type": "execute_result"
    }
   ],
   "source": [
    "# Linear regression\n",
    "\n",
    "linreg = LinearRegression()\n",
    "linreg.fit(X_train, y_train)\n",
    "y_pred_linreg = linreg.predict(X_test)\n",
    "rmse(y_test, y_pred_linreg)"
   ]
  },
  {
   "cell_type": "code",
   "execution_count": 66,
   "metadata": {},
   "outputs": [
    {
     "data": {
      "text/plain": [
       "0.7128153696868519"
      ]
     },
     "execution_count": 66,
     "metadata": {},
     "output_type": "execute_result"
    }
   ],
   "source": [
    "# Lasso regression\n",
    "\n",
    "alpha = 0.00099\n",
    "lasso_reg = Lasso(alpha=alpha, max_iter=50000)\n",
    "lasso_reg.fit(X_train, y_train)\n",
    "y_pred_lasso = lasso_reg.predict(X_test)\n",
    "rmse(y_test, y_pred_lasso)"
   ]
  },
  {
   "cell_type": "code",
   "execution_count": 67,
   "metadata": {},
   "outputs": [
    {
     "data": {
      "text/plain": [
       "0.7103965680227126"
      ]
     },
     "execution_count": 67,
     "metadata": {},
     "output_type": "execute_result"
    }
   ],
   "source": [
    "# Ridge regression\n",
    "\n",
    "ridge = Ridge(alpha=0.01, normalize=True)\n",
    "ridge.fit(X_train, y_train)\n",
    "y_pred_ridge = ridge.predict(X_test)\n",
    "rmse(y_test, y_pred_ridge)"
   ]
  },
  {
   "cell_type": "code",
   "execution_count": 68,
   "metadata": {},
   "outputs": [
    {
     "data": {
      "text/plain": [
       "0.5254542836545022"
      ]
     },
     "execution_count": 68,
     "metadata": {},
     "output_type": "execute_result"
    }
   ],
   "source": [
    "# Random Forest Regressor\n",
    "\n",
    "rf_reg = RandomForestRegressor()\n",
    "rf_reg.fit(X_train, y_train)\n",
    "y_pred_rf = rf_reg.predict(X_test)\n",
    "rmse(y_test, y_pred_rf)"
   ]
  },
  {
   "cell_type": "code",
   "execution_count": 69,
   "metadata": {},
   "outputs": [
    {
     "name": "stdout",
     "output_type": "stream",
     "text": [
      "Linear regression : 0.48099299303827714\n",
      "Lasso regression : 0.47786965521333347\n",
      "Ridge regression : 0.4814071406438112\n",
      "Random Forest Regressor : 0.7162768995962449\n"
     ]
    }
   ],
   "source": [
    "# Evaluate the regression model using the R2 determination coefficient - The higher the better\n",
    "from sklearn.metrics import r2_score\n",
    "print(\"Linear regression : \"+str(r2_score(y_test, y_pred_linreg)))\n",
    "print(\"Lasso regression : \"+str(r2_score(y_test, y_pred_lasso)))\n",
    "print(\"Ridge regression : \"+str(r2_score(y_test, y_pred_ridge)))\n",
    "print(\"Random Forest Regressor : \"+str(r2_score(y_test, y_pred_rf)))"
   ]
  },
  {
   "cell_type": "code",
   "execution_count": 70,
   "metadata": {},
   "outputs": [
    {
     "data": {
      "text/plain": [
       "['rf_reg.pkl']"
      ]
     },
     "execution_count": 70,
     "metadata": {},
     "output_type": "execute_result"
    }
   ],
   "source": [
    "# save model\n",
    "from sklearn.externals import joblib\n",
    "\n",
    "joblib.dump(rf_reg, 'rf_reg.pkl')"
   ]
  },
  {
   "cell_type": "code",
   "execution_count": null,
   "metadata": {},
   "outputs": [],
   "source": []
  },
  {
   "cell_type": "code",
   "execution_count": null,
   "metadata": {},
   "outputs": [],
   "source": []
  }
 ],
 "metadata": {
  "kernelspec": {
   "display_name": "Python 3",
   "language": "python",
   "name": "python3"
  },
  "language_info": {
   "codemirror_mode": {
    "name": "ipython",
    "version": 3
   },
   "file_extension": ".py",
   "mimetype": "text/x-python",
   "name": "python",
   "nbconvert_exporter": "python",
   "pygments_lexer": "ipython3",
   "version": "3.7.0"
  }
 },
 "nbformat": 4,
 "nbformat_minor": 2
}
